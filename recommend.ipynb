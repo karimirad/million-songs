{
 "cells": [
  {
   "cell_type": "code",
   "execution_count": 2,
   "metadata": {},
   "outputs": [],
   "source": [
    "import numpy as np\n",
    "import pandas as pd\n",
    "import matplotlib.pyplot as plt\n",
    "import seaborn as sns\n",
    "from sklearn.metrics.pairwise import cosine_similarity\n",
    "from numpy.linalg import svd\n",
    "from sklearn.model_selection import train_test_split\n",
    "import warnings; warnings.simplefilter('ignore')\n",
    "%matplotlib inline"
   ]
  },
  {
   "cell_type": "code",
   "execution_count": 3,
   "metadata": {},
   "outputs": [],
   "source": [
    "df=pd.read_csv(\"count_data.csv\")"
   ]
  },
  {
   "cell_type": "code",
   "execution_count": 4,
   "metadata": {},
   "outputs": [
    {
     "data": {
      "text/html": [
       "<div>\n",
       "<style scoped>\n",
       "    .dataframe tbody tr th:only-of-type {\n",
       "        vertical-align: middle;\n",
       "    }\n",
       "\n",
       "    .dataframe tbody tr th {\n",
       "        vertical-align: top;\n",
       "    }\n",
       "\n",
       "    .dataframe thead th {\n",
       "        text-align: right;\n",
       "    }\n",
       "</style>\n",
       "<table border=\"1\" class=\"dataframe\">\n",
       "  <thead>\n",
       "    <tr style=\"text-align: right;\">\n",
       "      <th></th>\n",
       "      <th>Unnamed: 0</th>\n",
       "      <th>user_id</th>\n",
       "      <th>song_id</th>\n",
       "      <th>play_count</th>\n",
       "    </tr>\n",
       "  </thead>\n",
       "  <tbody>\n",
       "    <tr>\n",
       "      <th>0</th>\n",
       "      <td>0</td>\n",
       "      <td>b80344d063b5ccb3212f76538f3d9e43d87dca9e</td>\n",
       "      <td>SOAKIMP12A8C130995</td>\n",
       "      <td>1</td>\n",
       "    </tr>\n",
       "    <tr>\n",
       "      <th>1</th>\n",
       "      <td>1</td>\n",
       "      <td>b80344d063b5ccb3212f76538f3d9e43d87dca9e</td>\n",
       "      <td>SOBBMDR12A8C13253B</td>\n",
       "      <td>2</td>\n",
       "    </tr>\n",
       "    <tr>\n",
       "      <th>2</th>\n",
       "      <td>2</td>\n",
       "      <td>b80344d063b5ccb3212f76538f3d9e43d87dca9e</td>\n",
       "      <td>SOBXHDL12A81C204C0</td>\n",
       "      <td>1</td>\n",
       "    </tr>\n",
       "    <tr>\n",
       "      <th>3</th>\n",
       "      <td>3</td>\n",
       "      <td>b80344d063b5ccb3212f76538f3d9e43d87dca9e</td>\n",
       "      <td>SOBYHAJ12A6701BF1D</td>\n",
       "      <td>1</td>\n",
       "    </tr>\n",
       "    <tr>\n",
       "      <th>4</th>\n",
       "      <td>4</td>\n",
       "      <td>b80344d063b5ccb3212f76538f3d9e43d87dca9e</td>\n",
       "      <td>SODACBL12A8C13C273</td>\n",
       "      <td>1</td>\n",
       "    </tr>\n",
       "    <tr>\n",
       "      <th>5</th>\n",
       "      <td>5</td>\n",
       "      <td>b80344d063b5ccb3212f76538f3d9e43d87dca9e</td>\n",
       "      <td>SODDNQT12A6D4F5F7E</td>\n",
       "      <td>5</td>\n",
       "    </tr>\n",
       "    <tr>\n",
       "      <th>6</th>\n",
       "      <td>6</td>\n",
       "      <td>b80344d063b5ccb3212f76538f3d9e43d87dca9e</td>\n",
       "      <td>SODXRTY12AB0180F3B</td>\n",
       "      <td>1</td>\n",
       "    </tr>\n",
       "    <tr>\n",
       "      <th>7</th>\n",
       "      <td>7</td>\n",
       "      <td>b80344d063b5ccb3212f76538f3d9e43d87dca9e</td>\n",
       "      <td>SOFGUAY12AB017B0A8</td>\n",
       "      <td>1</td>\n",
       "    </tr>\n",
       "    <tr>\n",
       "      <th>8</th>\n",
       "      <td>8</td>\n",
       "      <td>b80344d063b5ccb3212f76538f3d9e43d87dca9e</td>\n",
       "      <td>SOFRQTD12A81C233C0</td>\n",
       "      <td>1</td>\n",
       "    </tr>\n",
       "    <tr>\n",
       "      <th>9</th>\n",
       "      <td>9</td>\n",
       "      <td>b80344d063b5ccb3212f76538f3d9e43d87dca9e</td>\n",
       "      <td>SOHQWYZ12A6D4FA701</td>\n",
       "      <td>1</td>\n",
       "    </tr>\n",
       "  </tbody>\n",
       "</table>\n",
       "</div>"
      ],
      "text/plain": [
       "   Unnamed: 0                                   user_id             song_id  \\\n",
       "0           0  b80344d063b5ccb3212f76538f3d9e43d87dca9e  SOAKIMP12A8C130995   \n",
       "1           1  b80344d063b5ccb3212f76538f3d9e43d87dca9e  SOBBMDR12A8C13253B   \n",
       "2           2  b80344d063b5ccb3212f76538f3d9e43d87dca9e  SOBXHDL12A81C204C0   \n",
       "3           3  b80344d063b5ccb3212f76538f3d9e43d87dca9e  SOBYHAJ12A6701BF1D   \n",
       "4           4  b80344d063b5ccb3212f76538f3d9e43d87dca9e  SODACBL12A8C13C273   \n",
       "5           5  b80344d063b5ccb3212f76538f3d9e43d87dca9e  SODDNQT12A6D4F5F7E   \n",
       "6           6  b80344d063b5ccb3212f76538f3d9e43d87dca9e  SODXRTY12AB0180F3B   \n",
       "7           7  b80344d063b5ccb3212f76538f3d9e43d87dca9e  SOFGUAY12AB017B0A8   \n",
       "8           8  b80344d063b5ccb3212f76538f3d9e43d87dca9e  SOFRQTD12A81C233C0   \n",
       "9           9  b80344d063b5ccb3212f76538f3d9e43d87dca9e  SOHQWYZ12A6D4FA701   \n",
       "\n",
       "   play_count  \n",
       "0           1  \n",
       "1           2  \n",
       "2           1  \n",
       "3           1  \n",
       "4           1  \n",
       "5           5  \n",
       "6           1  \n",
       "7           1  \n",
       "8           1  \n",
       "9           1  "
      ]
     },
     "execution_count": 4,
     "metadata": {},
     "output_type": "execute_result"
    }
   ],
   "source": [
    "df.head(10)"
   ]
  },
  {
   "cell_type": "code",
   "execution_count": 5,
   "metadata": {},
   "outputs": [
    {
     "data": {
      "text/plain": [
       "(2000000, 4)"
      ]
     },
     "execution_count": 5,
     "metadata": {},
     "output_type": "execute_result"
    }
   ],
   "source": [
    "df.shape"
   ]
  },
  {
   "cell_type": "code",
   "execution_count": 6,
   "metadata": {},
   "outputs": [
    {
     "name": "stdout",
     "output_type": "stream",
     "text": [
      "Index(['Unnamed: 0', 'user_id', 'song_id', 'play_count'], dtype='object')\n"
     ]
    }
   ],
   "source": [
    "print(df.columns)"
   ]
  },
  {
   "cell_type": "code",
   "execution_count": 7,
   "metadata": {},
   "outputs": [
    {
     "data": {
      "text/html": [
       "<div>\n",
       "<style scoped>\n",
       "    .dataframe tbody tr th:only-of-type {\n",
       "        vertical-align: middle;\n",
       "    }\n",
       "\n",
       "    .dataframe tbody tr th {\n",
       "        vertical-align: top;\n",
       "    }\n",
       "\n",
       "    .dataframe thead th {\n",
       "        text-align: right;\n",
       "    }\n",
       "</style>\n",
       "<table border=\"1\" class=\"dataframe\">\n",
       "  <thead>\n",
       "    <tr style=\"text-align: right;\">\n",
       "      <th></th>\n",
       "      <th>Unnamed: 0</th>\n",
       "      <th>user_id</th>\n",
       "      <th>song_id</th>\n",
       "      <th>play_count</th>\n",
       "    </tr>\n",
       "  </thead>\n",
       "  <tbody>\n",
       "    <tr>\n",
       "      <th>0</th>\n",
       "      <td>0</td>\n",
       "      <td>b80344d063b5ccb3212f76538f3d9e43d87dca9e</td>\n",
       "      <td>SOAKIMP12A8C130995</td>\n",
       "      <td>1</td>\n",
       "    </tr>\n",
       "    <tr>\n",
       "      <th>1</th>\n",
       "      <td>1</td>\n",
       "      <td>b80344d063b5ccb3212f76538f3d9e43d87dca9e</td>\n",
       "      <td>SOBBMDR12A8C13253B</td>\n",
       "      <td>2</td>\n",
       "    </tr>\n",
       "    <tr>\n",
       "      <th>2</th>\n",
       "      <td>2</td>\n",
       "      <td>b80344d063b5ccb3212f76538f3d9e43d87dca9e</td>\n",
       "      <td>SOBXHDL12A81C204C0</td>\n",
       "      <td>1</td>\n",
       "    </tr>\n",
       "    <tr>\n",
       "      <th>3</th>\n",
       "      <td>3</td>\n",
       "      <td>b80344d063b5ccb3212f76538f3d9e43d87dca9e</td>\n",
       "      <td>SOBYHAJ12A6701BF1D</td>\n",
       "      <td>1</td>\n",
       "    </tr>\n",
       "    <tr>\n",
       "      <th>4</th>\n",
       "      <td>4</td>\n",
       "      <td>b80344d063b5ccb3212f76538f3d9e43d87dca9e</td>\n",
       "      <td>SODACBL12A8C13C273</td>\n",
       "      <td>1</td>\n",
       "    </tr>\n",
       "  </tbody>\n",
       "</table>\n",
       "</div>"
      ],
      "text/plain": [
       "   Unnamed: 0                                   user_id             song_id  \\\n",
       "0           0  b80344d063b5ccb3212f76538f3d9e43d87dca9e  SOAKIMP12A8C130995   \n",
       "1           1  b80344d063b5ccb3212f76538f3d9e43d87dca9e  SOBBMDR12A8C13253B   \n",
       "2           2  b80344d063b5ccb3212f76538f3d9e43d87dca9e  SOBXHDL12A81C204C0   \n",
       "3           3  b80344d063b5ccb3212f76538f3d9e43d87dca9e  SOBYHAJ12A6701BF1D   \n",
       "4           4  b80344d063b5ccb3212f76538f3d9e43d87dca9e  SODACBL12A8C13C273   \n",
       "\n",
       "   play_count  \n",
       "0           1  \n",
       "1           2  \n",
       "2           1  \n",
       "3           1  \n",
       "4           1  "
      ]
     },
     "execution_count": 7,
     "metadata": {},
     "output_type": "execute_result"
    }
   ],
   "source": [
    "df.head()"
   ]
  },
  {
   "cell_type": "code",
   "execution_count": 8,
   "metadata": {},
   "outputs": [
    {
     "name": "stdout",
     "output_type": "stream",
     "text": [
      "<class 'pandas.core.frame.DataFrame'>\n",
      "RangeIndex: 2000000 entries, 0 to 1999999\n",
      "Data columns (total 4 columns):\n",
      " #   Column      Dtype \n",
      "---  ------      ----- \n",
      " 0   Unnamed: 0  int64 \n",
      " 1   user_id     object\n",
      " 2   song_id     object\n",
      " 3   play_count  int64 \n",
      "dtypes: int64(2), object(2)\n",
      "memory usage: 61.0+ MB\n"
     ]
    }
   ],
   "source": [
    "df.info()"
   ]
  },
  {
   "cell_type": "code",
   "execution_count": 9,
   "metadata": {},
   "outputs": [
    {
     "name": "stdout",
     "output_type": "stream",
     "text": [
      "Number of missing values:\n",
      " Unnamed: 0    0\n",
      "user_id       0\n",
      "song_id       0\n",
      "play_count    0\n",
      "dtype: int64\n"
     ]
    }
   ],
   "source": [
    "print(\"Number of missing values:\\n\", df.isnull().sum())"
   ]
  },
  {
   "cell_type": "markdown",
   "metadata": {},
   "source": [
    "**Check the sparsity of the data**"
   ]
  },
  {
   "cell_type": "code",
   "execution_count": 10,
   "metadata": {},
   "outputs": [
    {
     "name": "stdout",
     "output_type": "stream",
     "text": [
      "Number of users: 76353\n"
     ]
    }
   ],
   "source": [
    "print(\"Number of users:\",df['user_id'].nunique())"
   ]
  },
  {
   "cell_type": "code",
   "execution_count": 11,
   "metadata": {},
   "outputs": [
    {
     "name": "stdout",
     "output_type": "stream",
     "text": [
      "Number of songs: 10000\n"
     ]
    }
   ],
   "source": [
    "print(\"Number of songs:\",df['song_id'].nunique())"
   ]
  },
  {
   "cell_type": "markdown",
   "metadata": {},
   "source": [
    "**Observation** Based on the number of the users and songs, there could be 76353*10000=763530000 records but only 2000000 are available which is 0.26%. So the data is very sparse and some sampling is required."
   ]
  },
  {
   "cell_type": "markdown",
   "metadata": {},
   "source": [
    "**Checking the Distribution of the Intractions of the Users**"
   ]
  },
  {
   "cell_type": "code",
   "execution_count": 12,
   "metadata": {},
   "outputs": [
    {
     "data": {
      "text/plain": [
       "user_id\n",
       "00003a4459f33b92906be11abe0e93efc423c0ff     7\n",
       "00005c6177188f12fb5e2e82cdbd93e8a3f35e64     5\n",
       "00030033e3a2f904a48ec1dd53019c9969b6ef1f     9\n",
       "0007235c769e610e3d339a17818a5708e41008d9    10\n",
       "0007c0e74728ca9ef0fe4eb7f75732e8026a278b     9\n",
       "                                            ..\n",
       "fffce9c1537fbc350ea68823d956eaa8f5236dbe    44\n",
       "fffd6a2bdef646ce9898b628d5dd56c43df69a9d    11\n",
       "fffd9635b33f412de8ed02e44e6564e3644cf3c6    17\n",
       "fffe6d1d8500f1c1f31bd63abce35c0f975a86bf     7\n",
       "fffea3d509760c984e7d40789804c0e5e289cc86    23\n",
       "Name: song_id, Length: 76353, dtype: int64"
      ]
     },
     "execution_count": 12,
     "metadata": {},
     "output_type": "execute_result"
    }
   ],
   "source": [
    "user_interactions=df.groupby(['user_id'])['song_id'].count()\n",
    "user_interactions"
   ]
  },
  {
   "cell_type": "code",
   "execution_count": 13,
   "metadata": {},
   "outputs": [
    {
     "data": {
      "text/plain": [
       "count    76353.000000\n",
       "mean        26.194125\n",
       "std         31.625078\n",
       "min          1.000000\n",
       "25%          9.000000\n",
       "50%         16.000000\n",
       "75%         31.000000\n",
       "max        711.000000\n",
       "Name: song_id, dtype: float64"
      ]
     },
     "execution_count": 13,
     "metadata": {},
     "output_type": "execute_result"
    }
   ],
   "source": [
    "user_interactions.describe()"
   ]
  },
  {
   "cell_type": "code",
   "execution_count": 14,
   "metadata": {},
   "outputs": [
    {
     "data": {
      "image/png": "[encoded data removed]",
      "text/plain": [
       "<Figure size 1152x576 with 1 Axes>"
      ]
     },
     "metadata": {
      "needs_background": "light"
     },
     "output_type": "display_data"
    }
   ],
   "source": [
    "ax=user_interactions.value_counts().plot(kind='bar',figsize=(16,8),xticks=np.arange(user_interactions.min(), user_interactions.max(), 20))\n",
    "ax.set_xlabel(\"No. of Interactions by users\")\n",
    "ax.set_ylabel(\"No. of users\")\n",
    "plt.yscale('log')\n",
    "plt.show()"
   ]
  },
  {
   "cell_type": "code",
   "execution_count": 17,
   "metadata": {},
   "outputs": [
    {
     "data": {
      "image/png": "[encoded data removed]",
      "text/plain": [
       "<Figure size 432x288 with 1 Axes>"
      ]
     },
     "metadata": {
      "needs_background": "light"
     },
     "output_type": "display_data"
    }
   ],
   "source": [
    "plt.yscale('log')\n",
    "user_interactions.plot(kind='box')\n",
    "plt.show()"
   ]
  },
  {
   "cell_type": "markdown",
   "metadata": {},
   "source": [
    "**Observation**\n",
    "<br>\n",
    "1. The most number of songs played by one user is 711. It means the most interacted user listened to 711 different songs. Considering the number of the songs (10000), even the most interacted user has lisnted to less than 10% of the songs which is shows pretty low interactions of the users that cause sparsity of the data. \n",
    "<br>\n",
    "2. The least number of songs played by one user is 1. It means the least interacted user listened to just 1 song.\n",
    "<br>\n",
    "3. In average one user listened to almost 26 different songs."
   ]
  },
  {
   "cell_type": "markdown",
   "metadata": {},
   "source": [
    "**Sampling (keeping the users with at least 50 interactions)**"
   ]
  },
  {
   "cell_type": "markdown",
   "metadata": {},
   "source": [
    "Inorder to reduce computation time and sparcity of the data we do sampling and only keep the users of at least 50 interactions. The minimum number of interactions has been chosen 50 which is between the value of Q3 and the upper fence (Q3 + 1.5 IQR). "
   ]
  },
  {
   "cell_type": "code",
   "execution_count": 18,
   "metadata": {},
   "outputs": [
    {
     "data": {
      "text/html": [
       "<div>\n",
       "<style scoped>\n",
       "    .dataframe tbody tr th:only-of-type {\n",
       "        vertical-align: middle;\n",
       "    }\n",
       "\n",
       "    .dataframe tbody tr th {\n",
       "        vertical-align: top;\n",
       "    }\n",
       "\n",
       "    .dataframe thead th {\n",
       "        text-align: right;\n",
       "    }\n",
       "</style>\n",
       "<table border=\"1\" class=\"dataframe\">\n",
       "  <thead>\n",
       "    <tr style=\"text-align: right;\">\n",
       "      <th></th>\n",
       "      <th>song_id</th>\n",
       "    </tr>\n",
       "    <tr>\n",
       "      <th>user_id</th>\n",
       "      <th></th>\n",
       "    </tr>\n",
       "  </thead>\n",
       "  <tbody>\n",
       "    <tr>\n",
       "      <th>000e2c2a8c7870ff9121f212b35c8b3a20cc0e67</th>\n",
       "      <td>57</td>\n",
       "    </tr>\n",
       "    <tr>\n",
       "      <th>000ebc858861aca26bac9b49f650ed424cf882fc</th>\n",
       "      <td>94</td>\n",
       "    </tr>\n",
       "    <tr>\n",
       "      <th>00185e316f07f0f00c325ca034be59c15b362401</th>\n",
       "      <td>115</td>\n",
       "    </tr>\n",
       "    <tr>\n",
       "      <th>002543003041db1d049206b09426d5cdffc0f451</th>\n",
       "      <td>55</td>\n",
       "    </tr>\n",
       "    <tr>\n",
       "      <th>0028292aa536122c1f86fd48a39bd83fe582d27f</th>\n",
       "      <td>84</td>\n",
       "    </tr>\n",
       "    <tr>\n",
       "      <th>...</th>\n",
       "      <td>...</td>\n",
       "    </tr>\n",
       "    <tr>\n",
       "      <th>fff03efd1550136063389fa71125194614e1c68f</th>\n",
       "      <td>152</td>\n",
       "    </tr>\n",
       "    <tr>\n",
       "      <th>fff0b1ab076f0b71cbde9c7dcbcfca400708d845</th>\n",
       "      <td>73</td>\n",
       "    </tr>\n",
       "    <tr>\n",
       "      <th>fff300cd094fe04030b79fae550dc9d065190182</th>\n",
       "      <td>51</td>\n",
       "    </tr>\n",
       "    <tr>\n",
       "      <th>fff6c30c773e6ffafcac213c9afd9666afaf6d63</th>\n",
       "      <td>124</td>\n",
       "    </tr>\n",
       "    <tr>\n",
       "      <th>fffc0df75a48d823ad5abfaf2a1ee61eb1e3302c</th>\n",
       "      <td>90</td>\n",
       "    </tr>\n",
       "  </tbody>\n",
       "</table>\n",
       "<p>9700 rows × 1 columns</p>\n",
       "</div>"
      ],
      "text/plain": [
       "                                          song_id\n",
       "user_id                                          \n",
       "000e2c2a8c7870ff9121f212b35c8b3a20cc0e67       57\n",
       "000ebc858861aca26bac9b49f650ed424cf882fc       94\n",
       "00185e316f07f0f00c325ca034be59c15b362401      115\n",
       "002543003041db1d049206b09426d5cdffc0f451       55\n",
       "0028292aa536122c1f86fd48a39bd83fe582d27f       84\n",
       "...                                           ...\n",
       "fff03efd1550136063389fa71125194614e1c68f      152\n",
       "fff0b1ab076f0b71cbde9c7dcbcfca400708d845       73\n",
       "fff300cd094fe04030b79fae550dc9d065190182       51\n",
       "fff6c30c773e6ffafcac213c9afd9666afaf6d63      124\n",
       "fffc0df75a48d823ad5abfaf2a1ee61eb1e3302c       90\n",
       "\n",
       "[9700 rows x 1 columns]"
      ]
     },
     "execution_count": 18,
     "metadata": {},
     "output_type": "execute_result"
    }
   ],
   "source": [
    "interaction_df=pd.DataFrame(df.groupby(['user_id'])['song_id'].count())\n",
    "interaction_df=interaction_df.loc[interaction_df['song_id']>50]\n",
    "interaction_df"
   ]
  },
  {
   "cell_type": "code",
   "execution_count": 19,
   "metadata": {},
   "outputs": [],
   "source": [
    "df=df.loc[df['user_id'].isin(list(interaction_df.index))]"
   ]
  },
  {
   "cell_type": "code",
   "execution_count": 20,
   "metadata": {},
   "outputs": [
    {
     "data": {
      "text/plain": [
       "9700"
      ]
     },
     "execution_count": 20,
     "metadata": {},
     "output_type": "execute_result"
    }
   ],
   "source": [
    "df['user_id'].nunique()"
   ]
  },
  {
   "cell_type": "code",
   "execution_count": 21,
   "metadata": {},
   "outputs": [
    {
     "data": {
      "text/html": [
       "<div>\n",
       "<style scoped>\n",
       "    .dataframe tbody tr th:only-of-type {\n",
       "        vertical-align: middle;\n",
       "    }\n",
       "\n",
       "    .dataframe tbody tr th {\n",
       "        vertical-align: top;\n",
       "    }\n",
       "\n",
       "    .dataframe thead th {\n",
       "        text-align: right;\n",
       "    }\n",
       "</style>\n",
       "<table border=\"1\" class=\"dataframe\">\n",
       "  <thead>\n",
       "    <tr style=\"text-align: right;\">\n",
       "      <th></th>\n",
       "      <th>Unnamed: 0</th>\n",
       "      <th>user_id</th>\n",
       "      <th>song_id</th>\n",
       "      <th>play_count</th>\n",
       "    </tr>\n",
       "  </thead>\n",
       "  <tbody>\n",
       "    <tr>\n",
       "      <th>130</th>\n",
       "      <td>130</td>\n",
       "      <td>b64cdd1a0bd907e5e00b39e345194768e330d652</td>\n",
       "      <td>SOAFTRR12AF72A8D4D</td>\n",
       "      <td>3</td>\n",
       "    </tr>\n",
       "    <tr>\n",
       "      <th>131</th>\n",
       "      <td>131</td>\n",
       "      <td>b64cdd1a0bd907e5e00b39e345194768e330d652</td>\n",
       "      <td>SOALEQA12A58A77839</td>\n",
       "      <td>1</td>\n",
       "    </tr>\n",
       "    <tr>\n",
       "      <th>132</th>\n",
       "      <td>132</td>\n",
       "      <td>b64cdd1a0bd907e5e00b39e345194768e330d652</td>\n",
       "      <td>SOATNYF12AF72A8D48</td>\n",
       "      <td>3</td>\n",
       "    </tr>\n",
       "    <tr>\n",
       "      <th>133</th>\n",
       "      <td>133</td>\n",
       "      <td>b64cdd1a0bd907e5e00b39e345194768e330d652</td>\n",
       "      <td>SOBDKVR12A8C13E705</td>\n",
       "      <td>1</td>\n",
       "    </tr>\n",
       "    <tr>\n",
       "      <th>134</th>\n",
       "      <td>134</td>\n",
       "      <td>b64cdd1a0bd907e5e00b39e345194768e330d652</td>\n",
       "      <td>SOBDMNP12AF72AB1E1</td>\n",
       "      <td>2</td>\n",
       "    </tr>\n",
       "    <tr>\n",
       "      <th>...</th>\n",
       "      <td>...</td>\n",
       "      <td>...</td>\n",
       "      <td>...</td>\n",
       "      <td>...</td>\n",
       "    </tr>\n",
       "    <tr>\n",
       "      <th>1999995</th>\n",
       "      <td>1999995</td>\n",
       "      <td>d8bfd4ec88f0f3773a9e022e3c1a0f1d3b7b6a92</td>\n",
       "      <td>SOJEYPO12AAA8C6B0E</td>\n",
       "      <td>2</td>\n",
       "    </tr>\n",
       "    <tr>\n",
       "      <th>1999996</th>\n",
       "      <td>1999996</td>\n",
       "      <td>d8bfd4ec88f0f3773a9e022e3c1a0f1d3b7b6a92</td>\n",
       "      <td>SOJJYDE12AF729FC16</td>\n",
       "      <td>4</td>\n",
       "    </tr>\n",
       "    <tr>\n",
       "      <th>1999997</th>\n",
       "      <td>1999997</td>\n",
       "      <td>d8bfd4ec88f0f3773a9e022e3c1a0f1d3b7b6a92</td>\n",
       "      <td>SOJKQSF12A6D4F5EE9</td>\n",
       "      <td>3</td>\n",
       "    </tr>\n",
       "    <tr>\n",
       "      <th>1999998</th>\n",
       "      <td>1999998</td>\n",
       "      <td>d8bfd4ec88f0f3773a9e022e3c1a0f1d3b7b6a92</td>\n",
       "      <td>SOJUXGA12AC961885C</td>\n",
       "      <td>1</td>\n",
       "    </tr>\n",
       "    <tr>\n",
       "      <th>1999999</th>\n",
       "      <td>1999999</td>\n",
       "      <td>d8bfd4ec88f0f3773a9e022e3c1a0f1d3b7b6a92</td>\n",
       "      <td>SOJYOLS12A8C13C06F</td>\n",
       "      <td>1</td>\n",
       "    </tr>\n",
       "  </tbody>\n",
       "</table>\n",
       "<p>868041 rows × 4 columns</p>\n",
       "</div>"
      ],
      "text/plain": [
       "         Unnamed: 0                                   user_id  \\\n",
       "130             130  b64cdd1a0bd907e5e00b39e345194768e330d652   \n",
       "131             131  b64cdd1a0bd907e5e00b39e345194768e330d652   \n",
       "132             132  b64cdd1a0bd907e5e00b39e345194768e330d652   \n",
       "133             133  b64cdd1a0bd907e5e00b39e345194768e330d652   \n",
       "134             134  b64cdd1a0bd907e5e00b39e345194768e330d652   \n",
       "...             ...                                       ...   \n",
       "1999995     1999995  d8bfd4ec88f0f3773a9e022e3c1a0f1d3b7b6a92   \n",
       "1999996     1999996  d8bfd4ec88f0f3773a9e022e3c1a0f1d3b7b6a92   \n",
       "1999997     1999997  d8bfd4ec88f0f3773a9e022e3c1a0f1d3b7b6a92   \n",
       "1999998     1999998  d8bfd4ec88f0f3773a9e022e3c1a0f1d3b7b6a92   \n",
       "1999999     1999999  d8bfd4ec88f0f3773a9e022e3c1a0f1d3b7b6a92   \n",
       "\n",
       "                    song_id  play_count  \n",
       "130      SOAFTRR12AF72A8D4D           3  \n",
       "131      SOALEQA12A58A77839           1  \n",
       "132      SOATNYF12AF72A8D48           3  \n",
       "133      SOBDKVR12A8C13E705           1  \n",
       "134      SOBDMNP12AF72AB1E1           2  \n",
       "...                     ...         ...  \n",
       "1999995  SOJEYPO12AAA8C6B0E           2  \n",
       "1999996  SOJJYDE12AF729FC16           4  \n",
       "1999997  SOJKQSF12A6D4F5EE9           3  \n",
       "1999998  SOJUXGA12AC961885C           1  \n",
       "1999999  SOJYOLS12A8C13C06F           1  \n",
       "\n",
       "[868041 rows x 4 columns]"
      ]
     },
     "execution_count": 21,
     "metadata": {},
     "output_type": "execute_result"
    }
   ],
   "source": [
    "df"
   ]
  },
  {
   "cell_type": "markdown",
   "metadata": {},
   "source": [
    "**Check the sparsity of the data after sampling**"
   ]
  },
  {
   "cell_type": "code",
   "execution_count": 22,
   "metadata": {},
   "outputs": [
    {
     "data": {
      "text/plain": [
       "9700"
      ]
     },
     "execution_count": 22,
     "metadata": {},
     "output_type": "execute_result"
    }
   ],
   "source": [
    "df['user_id'].nunique()"
   ]
  },
  {
   "cell_type": "code",
   "execution_count": 23,
   "metadata": {},
   "outputs": [
    {
     "data": {
      "text/plain": [
       "10000"
      ]
     },
     "execution_count": 23,
     "metadata": {},
     "output_type": "execute_result"
    }
   ],
   "source": [
    "df['song_id'].nunique()"
   ]
  },
  {
   "cell_type": "code",
   "execution_count": 24,
   "metadata": {},
   "outputs": [
    {
     "data": {
      "text/plain": [
       "(868041, 4)"
      ]
     },
     "execution_count": 24,
     "metadata": {},
     "output_type": "execute_result"
    }
   ],
   "source": [
    "df.shape"
   ]
  },
  {
   "cell_type": "markdown",
   "metadata": {},
   "source": [
    "**Observation:** After sampling, there density of the user-song interactions has increased to 0.89%."
   ]
  },
  {
   "cell_type": "markdown",
   "metadata": {},
   "source": [
    "**Check for duplication**"
   ]
  },
  {
   "cell_type": "code",
   "execution_count": 25,
   "metadata": {},
   "outputs": [
    {
     "data": {
      "text/plain": [
       "Unnamed: 0    868041\n",
       "play_count    868041\n",
       "dtype: int64"
      ]
     },
     "execution_count": 25,
     "metadata": {},
     "output_type": "execute_result"
    }
   ],
   "source": [
    "df.groupby(['user_id','song_id']).count().sum()"
   ]
  },
  {
   "cell_type": "markdown",
   "metadata": {},
   "source": [
    "**Observation** There is no duplicant data for the same user and same song."
   ]
  },
  {
   "cell_type": "markdown",
   "metadata": {},
   "source": [
    "**Checking the distribution of the play_counts**"
   ]
  },
  {
   "cell_type": "code",
   "execution_count": 26,
   "metadata": {},
   "outputs": [
    {
     "data": {
      "text/plain": [
       "count    868041.000000\n",
       "mean          2.724329\n",
       "std           5.576602\n",
       "min           1.000000\n",
       "25%           1.000000\n",
       "50%           1.000000\n",
       "75%           3.000000\n",
       "max        2213.000000\n",
       "Name: play_count, dtype: float64"
      ]
     },
     "execution_count": 26,
     "metadata": {},
     "output_type": "execute_result"
    }
   ],
   "source": [
    "df['play_count'].describe()"
   ]
  },
  {
   "cell_type": "code",
   "execution_count": 27,
   "metadata": {},
   "outputs": [
    {
     "data": {
      "text/plain": [
       "<AxesSubplot:>"
      ]
     },
     "execution_count": 27,
     "metadata": {},
     "output_type": "execute_result"
    },
    {
     "data": {
      "image/png": "[encoded data removed]",
      "text/plain": [
       "<Figure size 432x288 with 1 Axes>"
      ]
     },
     "metadata": {
      "needs_background": "light"
     },
     "output_type": "display_data"
    }
   ],
   "source": [
    "plt.yscale('log')\n",
    "df['play_count'].plot(kind='box')"
   ]
  },
  {
   "cell_type": "code",
   "execution_count": 28,
   "metadata": {},
   "outputs": [
    {
     "data": {
      "text/plain": [
       "(709711, 4)"
      ]
     },
     "execution_count": 28,
     "metadata": {},
     "output_type": "execute_result"
    }
   ],
   "source": [
    "df.loc[df['play_count']<=round(df['play_count'].mean())].shape"
   ]
  },
  {
   "cell_type": "code",
   "execution_count": 29,
   "metadata": {},
   "outputs": [
    {
     "data": {
      "text/plain": [
       "2.0"
      ]
     },
     "execution_count": 29,
     "metadata": {},
     "output_type": "execute_result"
    }
   ],
   "source": [
    "IQR=df['play_count'].quantile(0.75)-df['play_count'].quantile(0.25)\n",
    "IQR"
   ]
  },
  {
   "cell_type": "code",
   "execution_count": 30,
   "metadata": {},
   "outputs": [
    {
     "data": {
      "text/plain": [
       "6.0"
      ]
     },
     "execution_count": 30,
     "metadata": {},
     "output_type": "execute_result"
    }
   ],
   "source": [
    "outrange=df['play_count'].quantile(0.75)+1.5*IQR\n",
    "outrange"
   ]
  },
  {
   "cell_type": "code",
   "execution_count": 31,
   "metadata": {},
   "outputs": [
    {
     "data": {
      "text/plain": [
       "(67663, 4)"
      ]
     },
     "execution_count": 31,
     "metadata": {},
     "output_type": "execute_result"
    }
   ],
   "source": [
    "df.loc[df['play_count']>outrange].shape"
   ]
  },
  {
   "cell_type": "code",
   "execution_count": 32,
   "metadata": {},
   "outputs": [
    {
     "data": {
      "text/plain": [
       "(868041, 4)"
      ]
     },
     "execution_count": 32,
     "metadata": {},
     "output_type": "execute_result"
    }
   ],
   "source": [
    "df.shape"
   ]
  },
  {
   "cell_type": "markdown",
   "metadata": {},
   "source": [
    "**Observation**\n",
    "<BR>1. Almost 82% (709711/868041) of the interactions are of less than 3 play_counts. This means ignoring the outliers, most of the songs have been listened only a few number of times for a given user.  \n",
    "<BR>2. Only 8% (67663/868041) of interactions are of more than 6 play_counts. This means that a small fractions of songs are really popular among most of the users."
   ]
  },
  {
   "cell_type": "markdown",
   "metadata": {},
   "source": [
    "**Checking the outliers**"
   ]
  },
  {
   "cell_type": "code",
   "execution_count": 33,
   "metadata": {},
   "outputs": [
    {
     "data": {
      "text/plain": [
       "200"
      ]
     },
     "execution_count": 33,
     "metadata": {},
     "output_type": "execute_result"
    }
   ],
   "source": [
    "df['play_count'].nunique()"
   ]
  },
  {
   "cell_type": "code",
   "execution_count": 34,
   "metadata": {},
   "outputs": [
    {
     "data": {
      "text/plain": [
       "count    868041.000000\n",
       "mean          2.724329\n",
       "std           5.576602\n",
       "min           1.000000\n",
       "25%           1.000000\n",
       "50%           1.000000\n",
       "75%           3.000000\n",
       "max        2213.000000\n",
       "Name: play_count, dtype: float64"
      ]
     },
     "execution_count": 34,
     "metadata": {},
     "output_type": "execute_result"
    }
   ],
   "source": [
    "df['play_count'].describe()"
   ]
  },
  {
   "cell_type": "code",
   "execution_count": 35,
   "metadata": {},
   "outputs": [
    {
     "data": {
      "text/plain": [
       "<AxesSubplot:>"
      ]
     },
     "execution_count": 35,
     "metadata": {},
     "output_type": "execute_result"
    },
    {
     "data": {
      "image/png": "[encoded data removed]",
      "text/plain": [
       "<Figure size 1152x576 with 1 Axes>"
      ]
     },
     "metadata": {
      "needs_background": "light"
     },
     "output_type": "display_data"
    }
   ],
   "source": [
    "plt.yscale('log')\n",
    "df['play_count'].value_counts().plot(kind='bar',figsize=(16,8),xticks=np.arange(df['play_count'].min(), df['play_count'].max(), 100))"
   ]
  },
  {
   "cell_type": "code",
   "execution_count": 36,
   "metadata": {},
   "outputs": [
    {
     "data": {
      "text/plain": [
       "6.0"
      ]
     },
     "execution_count": 36,
     "metadata": {},
     "output_type": "execute_result"
    }
   ],
   "source": [
    "#Q3 + (1.5 * IQR)\n",
    "Q3=df['play_count'].quantile(0.75)\n",
    "IQR=Q3-df['play_count'].quantile(0.25)\n",
    "upper_fence=Q3+1.5*IQR\n",
    "upper_fence"
   ]
  },
  {
   "cell_type": "code",
   "execution_count": 37,
   "metadata": {},
   "outputs": [
    {
     "name": "stdout",
     "output_type": "stream",
     "text": [
      "8.0 % are above the upper fece.\n"
     ]
    }
   ],
   "source": [
    "print(np.around(100-(df.shape[0]-df.loc[df['play_count']>upper_fence].shape[0])/df.shape[0]*100), \"% are above the upper fece.\")"
   ]
  },
  {
   "cell_type": "markdown",
   "metadata": {},
   "source": [
    "**Observation**\n",
    "<BR>8.0 % of the users listen to a particular song more than 6 times which are considered as outliers."
   ]
  },
  {
   "cell_type": "markdown",
   "metadata": {},
   "source": [
    "**Calculate user-song matrix (ineractions matrix)**"
   ]
  },
  {
   "cell_type": "code",
   "execution_count": 38,
   "metadata": {},
   "outputs": [],
   "source": [
    "interactions_matrix=df.pivot(index = 'user_id', columns ='song_id', values = 'play_count').fillna(0)"
   ]
  },
  {
   "cell_type": "code",
   "execution_count": 39,
   "metadata": {},
   "outputs": [
    {
     "data": {
      "text/plain": [
       "(9700, 10000)"
      ]
     },
     "execution_count": 39,
     "metadata": {},
     "output_type": "execute_result"
    }
   ],
   "source": [
    "interactions_matrix.shape"
   ]
  },
  {
   "cell_type": "markdown",
   "metadata": {},
   "source": [
    "**Build Popularity based Recommendation System by Averaging**"
   ]
  },
  {
   "cell_type": "code",
   "execution_count": 40,
   "metadata": {},
   "outputs": [],
   "source": [
    "average_rating=df"
   ]
  },
  {
   "cell_type": "code",
   "execution_count": 41,
   "metadata": {},
   "outputs": [],
   "source": [
    "average_rating=average_rating.drop('user_id',axis=1)"
   ]
  },
  {
   "cell_type": "code",
   "execution_count": 42,
   "metadata": {},
   "outputs": [],
   "source": [
    "average_rating['n_users']=average_rating.groupby('song_id')['song_id'].transform('count')"
   ]
  },
  {
   "cell_type": "code",
   "execution_count": 43,
   "metadata": {},
   "outputs": [],
   "source": [
    "average_rating=average_rating.sort_values(by=['n_users'],ascending=False)"
   ]
  },
  {
   "cell_type": "code",
   "execution_count": 44,
   "metadata": {},
   "outputs": [],
   "source": [
    "average_rating=average_rating.groupby(['song_id']).agg({'play_count':['sum'],'n_users':['mean']})"
   ]
  },
  {
   "cell_type": "code",
   "execution_count": 45,
   "metadata": {},
   "outputs": [
    {
     "data": {
      "text/plain": [
       "MultiIndex([('play_count',  'sum'),\n",
       "            (   'n_users', 'mean')],\n",
       "           )"
      ]
     },
     "execution_count": 45,
     "metadata": {},
     "output_type": "execute_result"
    }
   ],
   "source": [
    "average_rating.columns"
   ]
  },
  {
   "cell_type": "code",
   "execution_count": 46,
   "metadata": {},
   "outputs": [],
   "source": [
    "average_rating=average_rating.sort_values(by=[('play_count', 'sum')],ascending=False)"
   ]
  },
  {
   "cell_type": "code",
   "execution_count": 47,
   "metadata": {},
   "outputs": [
    {
     "data": {
      "text/html": [
       "<div>\n",
       "<style scoped>\n",
       "    .dataframe tbody tr th:only-of-type {\n",
       "        vertical-align: middle;\n",
       "    }\n",
       "\n",
       "    .dataframe tbody tr th {\n",
       "        vertical-align: top;\n",
       "    }\n",
       "\n",
       "    .dataframe thead tr th {\n",
       "        text-align: left;\n",
       "    }\n",
       "\n",
       "    .dataframe thead tr:last-of-type th {\n",
       "        text-align: right;\n",
       "    }\n",
       "</style>\n",
       "<table border=\"1\" class=\"dataframe\">\n",
       "  <thead>\n",
       "    <tr>\n",
       "      <th></th>\n",
       "      <th>play_count</th>\n",
       "      <th>n_users</th>\n",
       "    </tr>\n",
       "    <tr>\n",
       "      <th></th>\n",
       "      <th>sum</th>\n",
       "      <th>mean</th>\n",
       "    </tr>\n",
       "    <tr>\n",
       "      <th>song_id</th>\n",
       "      <th></th>\n",
       "      <th></th>\n",
       "    </tr>\n",
       "  </thead>\n",
       "  <tbody>\n",
       "    <tr>\n",
       "      <th>SOBONKR12A58A7A7E0</th>\n",
       "      <td>13060</td>\n",
       "      <td>1567</td>\n",
       "    </tr>\n",
       "    <tr>\n",
       "      <th>SOAUWYT12A81C206F1</th>\n",
       "      <td>12846</td>\n",
       "      <td>1710</td>\n",
       "    </tr>\n",
       "    <tr>\n",
       "      <th>SOSXLTC12AF72A7F54</th>\n",
       "      <td>10675</td>\n",
       "      <td>1761</td>\n",
       "    </tr>\n",
       "    <tr>\n",
       "      <th>SOAXGDH12A8C13F8A1</th>\n",
       "      <td>10627</td>\n",
       "      <td>2361</td>\n",
       "    </tr>\n",
       "    <tr>\n",
       "      <th>SOFRQTD12A81C233C0</th>\n",
       "      <td>9211</td>\n",
       "      <td>2257</td>\n",
       "    </tr>\n",
       "    <tr>\n",
       "      <th>...</th>\n",
       "      <td>...</td>\n",
       "      <td>...</td>\n",
       "    </tr>\n",
       "    <tr>\n",
       "      <th>SOSCCPA12A6D4F882B</th>\n",
       "      <td>17</td>\n",
       "      <td>7</td>\n",
       "    </tr>\n",
       "    <tr>\n",
       "      <th>SOJTLLT12A8C136BBB</th>\n",
       "      <td>16</td>\n",
       "      <td>10</td>\n",
       "    </tr>\n",
       "    <tr>\n",
       "      <th>SOBKCBP12A8AE48322</th>\n",
       "      <td>15</td>\n",
       "      <td>9</td>\n",
       "    </tr>\n",
       "    <tr>\n",
       "      <th>SOYINGU12AAF3B3314</th>\n",
       "      <td>15</td>\n",
       "      <td>9</td>\n",
       "    </tr>\n",
       "    <tr>\n",
       "      <th>SOJJJJR12A6D4F9584</th>\n",
       "      <td>12</td>\n",
       "      <td>10</td>\n",
       "    </tr>\n",
       "  </tbody>\n",
       "</table>\n",
       "<p>10000 rows × 2 columns</p>\n",
       "</div>"
      ],
      "text/plain": [
       "                   play_count n_users\n",
       "                          sum    mean\n",
       "song_id                              \n",
       "SOBONKR12A58A7A7E0      13060    1567\n",
       "SOAUWYT12A81C206F1      12846    1710\n",
       "SOSXLTC12AF72A7F54      10675    1761\n",
       "SOAXGDH12A8C13F8A1      10627    2361\n",
       "SOFRQTD12A81C233C0       9211    2257\n",
       "...                       ...     ...\n",
       "SOSCCPA12A6D4F882B         17       7\n",
       "SOJTLLT12A8C136BBB         16      10\n",
       "SOBKCBP12A8AE48322         15       9\n",
       "SOYINGU12AAF3B3314         15       9\n",
       "SOJJJJR12A6D4F9584         12      10\n",
       "\n",
       "[10000 rows x 2 columns]"
      ]
     },
     "execution_count": 47,
     "metadata": {},
     "output_type": "execute_result"
    }
   ],
   "source": [
    "average_rating"
   ]
  },
  {
   "cell_type": "code",
   "execution_count": 48,
   "metadata": {},
   "outputs": [
    {
     "data": {
      "text/plain": [
       "count    10000.000000\n",
       "mean       236.482900\n",
       "std        451.945239\n",
       "min         12.000000\n",
       "25%         87.000000\n",
       "50%        138.000000\n",
       "75%        239.000000\n",
       "max      13060.000000\n",
       "Name: (play_count, sum), dtype: float64"
      ]
     },
     "execution_count": 48,
     "metadata": {},
     "output_type": "execute_result"
    }
   ],
   "source": [
    "average_rating[('play_count','sum')].describe()"
   ]
  },
  {
   "cell_type": "code",
   "execution_count": 49,
   "metadata": {},
   "outputs": [
    {
     "data": {
      "text/plain": [
       "count    10000.000000\n",
       "mean        86.804100\n",
       "std        121.639642\n",
       "min          6.000000\n",
       "25%         36.000000\n",
       "50%         54.000000\n",
       "75%         93.000000\n",
       "max       2361.000000\n",
       "Name: (n_users, mean), dtype: float64"
      ]
     },
     "execution_count": 49,
     "metadata": {},
     "output_type": "execute_result"
    }
   ],
   "source": [
    "average_rating[('n_users','mean')].describe()"
   ]
  },
  {
   "cell_type": "code",
   "execution_count": 50,
   "metadata": {},
   "outputs": [
    {
     "data": {
      "image/png": "[encoded data removed]",
      "text/plain": [
       "<Figure size 432x288 with 1 Axes>"
      ]
     },
     "metadata": {
      "needs_background": "light"
     },
     "output_type": "display_data"
    }
   ],
   "source": [
    "average_rating.plot(kind='box')\n",
    "plt.yscale('log')\n",
    "plt.show()"
   ]
  },
  {
   "cell_type": "code",
   "execution_count": 51,
   "metadata": {},
   "outputs": [],
   "source": [
    "def recommend_by_averaging(average_rating,n):\n",
    "    \n",
    "    #get the songs of the most number of plays listened by at least the average number of people  \n",
    "    min_n_users=average_rating[('n_users','mean')].mean()\n",
    "    toplist=average_rating[(average_rating[('n_users','mean')]>min_n_users)]\n",
    "\n",
    "    return toplist[('n_users','mean')][0:10]"
   ]
  },
  {
   "cell_type": "code",
   "execution_count": 52,
   "metadata": {},
   "outputs": [
    {
     "data": {
      "text/plain": [
       "song_id\n",
       "SOBONKR12A58A7A7E0    1567\n",
       "SOAUWYT12A81C206F1    1710\n",
       "SOSXLTC12AF72A7F54    1761\n",
       "SOAXGDH12A8C13F8A1    2361\n",
       "SOFRQTD12A81C233C0    2257\n",
       "SOEGIYH12A6D4FC0E3    1397\n",
       "SOPUCYA12A8C13A694    1278\n",
       "SONYKOW12AB01849C9    1879\n",
       "SOUFTBI12AB0183F65     883\n",
       "SOTCMDJ12A6D4F8528     867\n",
       "Name: (n_users, mean), dtype: int64"
      ]
     },
     "execution_count": 52,
     "metadata": {},
     "output_type": "execute_result"
    }
   ],
   "source": [
    "recommend_by_averaging(average_rating,10)"
   ]
  },
  {
   "cell_type": "markdown",
   "metadata": {},
   "source": [
    "**Build Collaborative Filtering based Recommendation System**"
   ]
  },
  {
   "cell_type": "code",
   "execution_count": 53,
   "metadata": {},
   "outputs": [],
   "source": [
    "interactions_matrix_by_index=interactions_matrix"
   ]
  },
  {
   "cell_type": "code",
   "execution_count": 54,
   "metadata": {},
   "outputs": [
    {
     "data": {
      "text/html": [
       "<div>\n",
       "<style scoped>\n",
       "    .dataframe tbody tr th:only-of-type {\n",
       "        vertical-align: middle;\n",
       "    }\n",
       "\n",
       "    .dataframe tbody tr th {\n",
       "        vertical-align: top;\n",
       "    }\n",
       "\n",
       "    .dataframe thead th {\n",
       "        text-align: right;\n",
       "    }\n",
       "</style>\n",
       "<table border=\"1\" class=\"dataframe\">\n",
       "  <thead>\n",
       "    <tr style=\"text-align: right;\">\n",
       "      <th>song_id</th>\n",
       "      <th>SOAAAGQ12A8C1420C8</th>\n",
       "      <th>SOAACPJ12A81C21360</th>\n",
       "      <th>SOAACSG12AB018DC80</th>\n",
       "      <th>SOAAEJI12AB0188AB5</th>\n",
       "      <th>SOAAFAC12A67ADF7EB</th>\n",
       "      <th>SOAAFYH12A8C13717A</th>\n",
       "      <th>SOAAJMQ12A6D4F7D17</th>\n",
       "      <th>SOAAKPM12A58A77210</th>\n",
       "      <th>SOAALWN12A6D4F7FDA</th>\n",
       "      <th>SOAAMOW12AB018149B</th>\n",
       "      <th>...</th>\n",
       "      <th>SOZZKPR12A6D4F8147</th>\n",
       "      <th>SOZZLTY12A67AE0AD0</th>\n",
       "      <th>SOZZLZN12A8AE48D6D</th>\n",
       "      <th>SOZZRHE12A6702165F</th>\n",
       "      <th>SOZZTCU12AB0182C58</th>\n",
       "      <th>SOZZTNF12A8C139916</th>\n",
       "      <th>SOZZVWB12AB0189C30</th>\n",
       "      <th>SOZZWZV12A67AE140F</th>\n",
       "      <th>SOZZYAO12A6701FF36</th>\n",
       "      <th>SOZZZPV12A8C1444B5</th>\n",
       "    </tr>\n",
       "    <tr>\n",
       "      <th>user_index</th>\n",
       "      <th></th>\n",
       "      <th></th>\n",
       "      <th></th>\n",
       "      <th></th>\n",
       "      <th></th>\n",
       "      <th></th>\n",
       "      <th></th>\n",
       "      <th></th>\n",
       "      <th></th>\n",
       "      <th></th>\n",
       "      <th></th>\n",
       "      <th></th>\n",
       "      <th></th>\n",
       "      <th></th>\n",
       "      <th></th>\n",
       "      <th></th>\n",
       "      <th></th>\n",
       "      <th></th>\n",
       "      <th></th>\n",
       "      <th></th>\n",
       "      <th></th>\n",
       "    </tr>\n",
       "  </thead>\n",
       "  <tbody>\n",
       "    <tr>\n",
       "      <th>0</th>\n",
       "      <td>0.0</td>\n",
       "      <td>0.0</td>\n",
       "      <td>0.0</td>\n",
       "      <td>0.0</td>\n",
       "      <td>0.0</td>\n",
       "      <td>0.0</td>\n",
       "      <td>0.0</td>\n",
       "      <td>0.0</td>\n",
       "      <td>0.0</td>\n",
       "      <td>0.0</td>\n",
       "      <td>...</td>\n",
       "      <td>0.0</td>\n",
       "      <td>0.0</td>\n",
       "      <td>0.0</td>\n",
       "      <td>0.0</td>\n",
       "      <td>0.0</td>\n",
       "      <td>0.0</td>\n",
       "      <td>0.0</td>\n",
       "      <td>0.0</td>\n",
       "      <td>0.0</td>\n",
       "      <td>0.0</td>\n",
       "    </tr>\n",
       "    <tr>\n",
       "      <th>1</th>\n",
       "      <td>0.0</td>\n",
       "      <td>0.0</td>\n",
       "      <td>0.0</td>\n",
       "      <td>0.0</td>\n",
       "      <td>0.0</td>\n",
       "      <td>0.0</td>\n",
       "      <td>0.0</td>\n",
       "      <td>0.0</td>\n",
       "      <td>0.0</td>\n",
       "      <td>0.0</td>\n",
       "      <td>...</td>\n",
       "      <td>0.0</td>\n",
       "      <td>0.0</td>\n",
       "      <td>0.0</td>\n",
       "      <td>0.0</td>\n",
       "      <td>0.0</td>\n",
       "      <td>0.0</td>\n",
       "      <td>0.0</td>\n",
       "      <td>0.0</td>\n",
       "      <td>0.0</td>\n",
       "      <td>0.0</td>\n",
       "    </tr>\n",
       "    <tr>\n",
       "      <th>2</th>\n",
       "      <td>0.0</td>\n",
       "      <td>0.0</td>\n",
       "      <td>0.0</td>\n",
       "      <td>0.0</td>\n",
       "      <td>0.0</td>\n",
       "      <td>0.0</td>\n",
       "      <td>0.0</td>\n",
       "      <td>0.0</td>\n",
       "      <td>0.0</td>\n",
       "      <td>0.0</td>\n",
       "      <td>...</td>\n",
       "      <td>0.0</td>\n",
       "      <td>0.0</td>\n",
       "      <td>0.0</td>\n",
       "      <td>0.0</td>\n",
       "      <td>0.0</td>\n",
       "      <td>0.0</td>\n",
       "      <td>0.0</td>\n",
       "      <td>0.0</td>\n",
       "      <td>0.0</td>\n",
       "      <td>0.0</td>\n",
       "    </tr>\n",
       "    <tr>\n",
       "      <th>3</th>\n",
       "      <td>0.0</td>\n",
       "      <td>0.0</td>\n",
       "      <td>0.0</td>\n",
       "      <td>0.0</td>\n",
       "      <td>0.0</td>\n",
       "      <td>0.0</td>\n",
       "      <td>0.0</td>\n",
       "      <td>0.0</td>\n",
       "      <td>0.0</td>\n",
       "      <td>0.0</td>\n",
       "      <td>...</td>\n",
       "      <td>0.0</td>\n",
       "      <td>0.0</td>\n",
       "      <td>0.0</td>\n",
       "      <td>0.0</td>\n",
       "      <td>0.0</td>\n",
       "      <td>0.0</td>\n",
       "      <td>0.0</td>\n",
       "      <td>0.0</td>\n",
       "      <td>0.0</td>\n",
       "      <td>0.0</td>\n",
       "    </tr>\n",
       "    <tr>\n",
       "      <th>4</th>\n",
       "      <td>0.0</td>\n",
       "      <td>0.0</td>\n",
       "      <td>0.0</td>\n",
       "      <td>0.0</td>\n",
       "      <td>0.0</td>\n",
       "      <td>0.0</td>\n",
       "      <td>0.0</td>\n",
       "      <td>0.0</td>\n",
       "      <td>0.0</td>\n",
       "      <td>0.0</td>\n",
       "      <td>...</td>\n",
       "      <td>0.0</td>\n",
       "      <td>0.0</td>\n",
       "      <td>0.0</td>\n",
       "      <td>0.0</td>\n",
       "      <td>0.0</td>\n",
       "      <td>0.0</td>\n",
       "      <td>0.0</td>\n",
       "      <td>0.0</td>\n",
       "      <td>0.0</td>\n",
       "      <td>0.0</td>\n",
       "    </tr>\n",
       "  </tbody>\n",
       "</table>\n",
       "<p>5 rows × 10000 columns</p>\n",
       "</div>"
      ],
      "text/plain": [
       "song_id     SOAAAGQ12A8C1420C8  SOAACPJ12A81C21360  SOAACSG12AB018DC80  \\\n",
       "user_index                                                               \n",
       "0                          0.0                 0.0                 0.0   \n",
       "1                          0.0                 0.0                 0.0   \n",
       "2                          0.0                 0.0                 0.0   \n",
       "3                          0.0                 0.0                 0.0   \n",
       "4                          0.0                 0.0                 0.0   \n",
       "\n",
       "song_id     SOAAEJI12AB0188AB5  SOAAFAC12A67ADF7EB  SOAAFYH12A8C13717A  \\\n",
       "user_index                                                               \n",
       "0                          0.0                 0.0                 0.0   \n",
       "1                          0.0                 0.0                 0.0   \n",
       "2                          0.0                 0.0                 0.0   \n",
       "3                          0.0                 0.0                 0.0   \n",
       "4                          0.0                 0.0                 0.0   \n",
       "\n",
       "song_id     SOAAJMQ12A6D4F7D17  SOAAKPM12A58A77210  SOAALWN12A6D4F7FDA  \\\n",
       "user_index                                                               \n",
       "0                          0.0                 0.0                 0.0   \n",
       "1                          0.0                 0.0                 0.0   \n",
       "2                          0.0                 0.0                 0.0   \n",
       "3                          0.0                 0.0                 0.0   \n",
       "4                          0.0                 0.0                 0.0   \n",
       "\n",
       "song_id     SOAAMOW12AB018149B  ...  SOZZKPR12A6D4F8147  SOZZLTY12A67AE0AD0  \\\n",
       "user_index                      ...                                           \n",
       "0                          0.0  ...                 0.0                 0.0   \n",
       "1                          0.0  ...                 0.0                 0.0   \n",
       "2                          0.0  ...                 0.0                 0.0   \n",
       "3                          0.0  ...                 0.0                 0.0   \n",
       "4                          0.0  ...                 0.0                 0.0   \n",
       "\n",
       "song_id     SOZZLZN12A8AE48D6D  SOZZRHE12A6702165F  SOZZTCU12AB0182C58  \\\n",
       "user_index                                                               \n",
       "0                          0.0                 0.0                 0.0   \n",
       "1                          0.0                 0.0                 0.0   \n",
       "2                          0.0                 0.0                 0.0   \n",
       "3                          0.0                 0.0                 0.0   \n",
       "4                          0.0                 0.0                 0.0   \n",
       "\n",
       "song_id     SOZZTNF12A8C139916  SOZZVWB12AB0189C30  SOZZWZV12A67AE140F  \\\n",
       "user_index                                                               \n",
       "0                          0.0                 0.0                 0.0   \n",
       "1                          0.0                 0.0                 0.0   \n",
       "2                          0.0                 0.0                 0.0   \n",
       "3                          0.0                 0.0                 0.0   \n",
       "4                          0.0                 0.0                 0.0   \n",
       "\n",
       "song_id     SOZZYAO12A6701FF36  SOZZZPV12A8C1444B5  \n",
       "user_index                                          \n",
       "0                          0.0                 0.0  \n",
       "1                          0.0                 0.0  \n",
       "2                          0.0                 0.0  \n",
       "3                          0.0                 0.0  \n",
       "4                          0.0                 0.0  \n",
       "\n",
       "[5 rows x 10000 columns]"
      ]
     },
     "execution_count": 54,
     "metadata": {},
     "output_type": "execute_result"
    }
   ],
   "source": [
    "interactions_matrix_by_index['user_index'] = np.arange(0, interactions_matrix_by_index.shape[0], 1)\n",
    "interactions_matrix_by_index.set_index(['user_index'], inplace=True)\n",
    "\n",
    "# Actual ratings given by users\n",
    "interactions_matrix_by_index.head()"
   ]
  },
  {
   "cell_type": "code",
   "execution_count": 55,
   "metadata": {},
   "outputs": [],
   "source": [
    "# defining a function to get similar users and return the most similar users indexes and their similarity scores\n",
    "def similar_users(user_index, interactions_matrix_by_index):\n",
    "    s=cosine_similarity(interactions_matrix_by_index)\n",
    "    sd=pd.DataFrame(s[user_index],columns=['score'])\n",
    "    sd['index_']=list(range(0,s.shape[0]))\n",
    "    sd=sd.sort_values(by=['score'],ascending=False)\n",
    "    sd.reset_index(inplace=True)\n",
    "    \n",
    "    return sd['index_'],sd['score']"
   ]
  },
  {
   "cell_type": "code",
   "execution_count": 56,
   "metadata": {},
   "outputs": [],
   "source": [
    "#finding similar users indexes and their score for the user with index=6\n",
    "sim_indexes,scores = similar_users(6,interactions_matrix_by_index)"
   ]
  },
  {
   "cell_type": "code",
   "execution_count": 57,
   "metadata": {},
   "outputs": [
    {
     "data": {
      "text/plain": [
       "0       6\n",
       "1    5035\n",
       "2    3449\n",
       "3    1350\n",
       "4    6626\n",
       "5    3782\n",
       "6    4051\n",
       "7    2051\n",
       "8    1484\n",
       "9    4920\n",
       "Name: index_, dtype: int64"
      ]
     },
     "execution_count": 57,
     "metadata": {},
     "output_type": "execute_result"
    }
   ],
   "source": [
    "sim_indexes[0:10]"
   ]
  },
  {
   "cell_type": "code",
   "execution_count": 58,
   "metadata": {},
   "outputs": [
    {
     "data": {
      "text/plain": [
       "0    1.000000\n",
       "1    0.320309\n",
       "2    0.196865\n",
       "3    0.191270\n",
       "4    0.176136\n",
       "5    0.174991\n",
       "6    0.165504\n",
       "7    0.160846\n",
       "8    0.157683\n",
       "9    0.154672\n",
       "Name: score, dtype: float64"
      ]
     },
     "execution_count": 58,
     "metadata": {},
     "output_type": "execute_result"
    }
   ],
   "source": [
    "scores[0:10]"
   ]
  },
  {
   "cell_type": "code",
   "execution_count": 59,
   "metadata": {},
   "outputs": [
    {
     "name": "stdout",
     "output_type": "stream",
     "text": [
      "6\n",
      "5035\n",
      "3449\n",
      "1350\n",
      "6626\n",
      "3782\n",
      "4051\n",
      "2051\n",
      "1484\n",
      "4920\n"
     ]
    }
   ],
   "source": [
    "#finding top10 similar users with their user_id\n",
    "for i in sim_indexes[0:10]:\n",
    "    print(interactions_matrix.index[i])"
   ]
  },
  {
   "cell_type": "code",
   "execution_count": 60,
   "metadata": {},
   "outputs": [],
   "source": [
    "# defining the recommendations function to get recommendations by using the similar users preferences and return the recommendations of products\n",
    "def recommend_by_similarity(n_songs,user_index,interactions_matrix_by_index,flag):\n",
    "\n",
    "    index,score=similar_users(user_index,interactions_matrix_by_index)\n",
    "    \n",
    "    song_ids=set(list(interactions_matrix_by_index.columns[np.array(interactions_matrix_by_index.iloc[user_index]).nonzero()]))\n",
    "    rec_list=[]\n",
    "    rec_list_counts=[]\n",
    "    \n",
    "    #if flag is set to 1, it will consider the values of the user as well\n",
    "    if(flag==1):\n",
    "        t=set()\n",
    "    #if the flag is zero it will only check the similar users values \n",
    "    elif(flag==0):\n",
    "        t=song_ids.copy()\n",
    "    else:\n",
    "        print(\"Flag is not set properly\")\n",
    "        return\n",
    "\n",
    "    \n",
    "    for user in index:\n",
    "        if len(rec_list)<n_songs:\n",
    "            \n",
    "            similar_user_song_ids=set(list(interactions_matrix_by_index.columns[np.array(interactions_matrix_by_index.iloc[user]).nonzero()]))\n",
    "            similar_user_song_counts=list(((interactions_matrix_by_index.iloc[[user]])[list(similar_user_song_ids)]).iloc[0])                            \n",
    "            \n",
    "            diff=list(similar_user_song_ids.difference(t))\n",
    "            rec_list.extend(diff)\n",
    "            \n",
    "            indices=[]\n",
    "            for i in range(len(diff)):\n",
    "                indices.append(list(similar_user_song_ids).index(diff[i]))\n",
    "            rec_list_counts.extend(list(np.array(list(similar_user_song_counts))[indices]))\n",
    "            \n",
    "            t = t.union(similar_user_song_ids)\n",
    "        else:\n",
    "            break\n",
    "            \n",
    "    rec_df=pd.DataFrame(index=rec_list,data=rec_list_counts)\n",
    "    rec_df.columns=['play_counts']\n",
    "    rec_df=rec_df.sort_values(by='play_counts',ascending=False).head(n_songs)\n",
    "    \n",
    "    return(rec_df)    "
   ]
  },
  {
   "cell_type": "code",
   "execution_count": 61,
   "metadata": {},
   "outputs": [
    {
     "data": {
      "text/html": [
       "<div>\n",
       "<style scoped>\n",
       "    .dataframe tbody tr th:only-of-type {\n",
       "        vertical-align: middle;\n",
       "    }\n",
       "\n",
       "    .dataframe tbody tr th {\n",
       "        vertical-align: top;\n",
       "    }\n",
       "\n",
       "    .dataframe thead th {\n",
       "        text-align: right;\n",
       "    }\n",
       "</style>\n",
       "<table border=\"1\" class=\"dataframe\">\n",
       "  <thead>\n",
       "    <tr style=\"text-align: right;\">\n",
       "      <th></th>\n",
       "      <th>play_counts</th>\n",
       "    </tr>\n",
       "  </thead>\n",
       "  <tbody>\n",
       "    <tr>\n",
       "      <th>SOLGLUC12AB018A8FA</th>\n",
       "      <td>33.0</td>\n",
       "    </tr>\n",
       "    <tr>\n",
       "      <th>SOOONKL12AB0187911</th>\n",
       "      <td>23.0</td>\n",
       "    </tr>\n",
       "    <tr>\n",
       "      <th>SOSJRJP12A6D4F826F</th>\n",
       "      <td>20.0</td>\n",
       "    </tr>\n",
       "    <tr>\n",
       "      <th>SOTUARP12A8C13CB54</th>\n",
       "      <td>18.0</td>\n",
       "    </tr>\n",
       "    <tr>\n",
       "      <th>SOGSAYQ12AB018BA14</th>\n",
       "      <td>17.0</td>\n",
       "    </tr>\n",
       "    <tr>\n",
       "      <th>SOPGYCQ12A6D4FB4DC</th>\n",
       "      <td>15.0</td>\n",
       "    </tr>\n",
       "    <tr>\n",
       "      <th>SONNKKX12A81C22CAC</th>\n",
       "      <td>15.0</td>\n",
       "    </tr>\n",
       "    <tr>\n",
       "      <th>SOGWJEY12AC9618862</th>\n",
       "      <td>10.0</td>\n",
       "    </tr>\n",
       "    <tr>\n",
       "      <th>SOHHZKM12A6D4F70DA</th>\n",
       "      <td>10.0</td>\n",
       "    </tr>\n",
       "    <tr>\n",
       "      <th>SOTASGN12AC9075A8F</th>\n",
       "      <td>9.0</td>\n",
       "    </tr>\n",
       "  </tbody>\n",
       "</table>\n",
       "</div>"
      ],
      "text/plain": [
       "                    play_counts\n",
       "SOLGLUC12AB018A8FA         33.0\n",
       "SOOONKL12AB0187911         23.0\n",
       "SOSJRJP12A6D4F826F         20.0\n",
       "SOTUARP12A8C13CB54         18.0\n",
       "SOGSAYQ12AB018BA14         17.0\n",
       "SOPGYCQ12A6D4FB4DC         15.0\n",
       "SONNKKX12A81C22CAC         15.0\n",
       "SOGWJEY12AC9618862         10.0\n",
       "SOHHZKM12A6D4F70DA         10.0\n",
       "SOTASGN12AC9075A8F          9.0"
      ]
     },
     "execution_count": 61,
     "metadata": {},
     "output_type": "execute_result"
    }
   ],
   "source": [
    "recommend_by_similarity(10,13,interactions_matrix_by_index,1)"
   ]
  },
  {
   "cell_type": "markdown",
   "metadata": {},
   "source": [
    "**Build recommendation system using SVD**"
   ]
  },
  {
   "cell_type": "code",
   "execution_count": 62,
   "metadata": {},
   "outputs": [],
   "source": [
    "interactions_matrix=df.pivot(index = 'user_id', columns ='song_id', values = 'play_count').fillna(0)"
   ]
  },
  {
   "cell_type": "code",
   "execution_count": 63,
   "metadata": {},
   "outputs": [],
   "source": [
    "#split data to test and train to find the optimum number of latent features\n",
    "X_train, X_test = train_test_split(df, test_size=0.2, random_state=42)"
   ]
  },
  {
   "cell_type": "code",
   "execution_count": 64,
   "metadata": {},
   "outputs": [
    {
     "data": {
      "text/plain": [
       "(868041, 4)"
      ]
     },
     "execution_count": 64,
     "metadata": {},
     "output_type": "execute_result"
    }
   ],
   "source": [
    "df.shape"
   ]
  },
  {
   "cell_type": "code",
   "execution_count": 65,
   "metadata": {},
   "outputs": [
    {
     "data": {
      "text/plain": [
       "(694432, 4)"
      ]
     },
     "execution_count": 65,
     "metadata": {},
     "output_type": "execute_result"
    }
   ],
   "source": [
    "X_train.shape"
   ]
  },
  {
   "cell_type": "code",
   "execution_count": 66,
   "metadata": {},
   "outputs": [
    {
     "data": {
      "text/plain": [
       "(173609, 4)"
      ]
     },
     "execution_count": 66,
     "metadata": {},
     "output_type": "execute_result"
    }
   ],
   "source": [
    "X_test.shape"
   ]
  },
  {
   "cell_type": "code",
   "execution_count": 67,
   "metadata": {},
   "outputs": [],
   "source": [
    "interactions_matrix_train = X_train.pivot(index = 'user_id', columns ='song_id', values = 'play_count')\n",
    "interactions_matrix_train.fillna(0, inplace=True)"
   ]
  },
  {
   "cell_type": "code",
   "execution_count": 68,
   "metadata": {},
   "outputs": [
    {
     "data": {
      "text/plain": [
       "(9700, 10000)"
      ]
     },
     "execution_count": 68,
     "metadata": {},
     "output_type": "execute_result"
    }
   ],
   "source": [
    "interactions_matrix_train.shape"
   ]
  },
  {
   "cell_type": "code",
   "execution_count": 69,
   "metadata": {},
   "outputs": [],
   "source": [
    "interactions_matrix_test = X_test.pivot(index = 'user_id', columns ='song_id', values = 'play_count')\n",
    "interactions_matrix_test.fillna(0, inplace=True)"
   ]
  },
  {
   "cell_type": "code",
   "execution_count": 70,
   "metadata": {},
   "outputs": [
    {
     "data": {
      "text/plain": [
       "(9700, 9986)"
      ]
     },
     "execution_count": 70,
     "metadata": {},
     "output_type": "execute_result"
    }
   ],
   "source": [
    "interactions_matrix_test.shape"
   ]
  },
  {
   "cell_type": "code",
   "execution_count": 71,
   "metadata": {},
   "outputs": [],
   "source": [
    "train_idx = set(interactions_matrix_train.index)\n",
    "test_idx = set(interactions_matrix_test.index)\n",
    "\n",
    "train_movies = set(interactions_matrix_train.columns)\n",
    "test_movies = set(interactions_matrix_test.columns)\n",
    "\n",
    "match_idx = train_idx.intersection(test_idx)\n",
    "match_cols = train_movies.intersection(test_movies)"
   ]
  },
  {
   "cell_type": "code",
   "execution_count": 72,
   "metadata": {},
   "outputs": [],
   "source": [
    "interactions_matrix_test=interactions_matrix_test.loc[list(match_idx),list(match_cols)]"
   ]
  },
  {
   "cell_type": "code",
   "execution_count": 73,
   "metadata": {},
   "outputs": [
    {
     "data": {
      "text/plain": [
       "(9700, 9986)"
      ]
     },
     "execution_count": 73,
     "metadata": {},
     "output_type": "execute_result"
    }
   ],
   "source": [
    "interactions_matrix_test.shape"
   ]
  },
  {
   "cell_type": "code",
   "execution_count": 74,
   "metadata": {},
   "outputs": [],
   "source": [
    "u_train, s_train, vt_train = np.linalg.svd(interactions_matrix_train, full_matrices=False)"
   ]
  },
  {
   "cell_type": "code",
   "execution_count": 75,
   "metadata": {},
   "outputs": [],
   "source": [
    "row_idxs = interactions_matrix_train.index.isin(test_idx)\n",
    "col_idxs = interactions_matrix_train.columns.isin(test_movies)\n",
    "u_test = u_train[row_idxs, :]\n",
    "vt_test = vt_train[:, col_idxs]"
   ]
  },
  {
   "cell_type": "code",
   "execution_count": 76,
   "metadata": {},
   "outputs": [],
   "source": [
    "latent_features = np.arange(0, 700, 20)\n",
    "train_error = []\n",
    "test_error = []\n",
    "\n",
    "for k in latent_features:\n",
    "    s_train_lat, u_train_lat, vt_train_lat = np.diag(s_train[:k]), u_train[:, :k], vt_train[:k, :]\n",
    "    u_test_lat, vt_test_lat = u_test[:, :k], vt_test[:k, :]\n",
    "    \n",
    "    interactions_matrix_train_preds = np.around(np.dot(np.dot(u_train_lat, s_train_lat), vt_train_lat))\n",
    "    interactions_matrix_test_preds = np.around(np.dot(np.dot(u_test_lat, s_train_lat), vt_test_lat))\n",
    "    \n",
    "    train_difference = np.subtract(interactions_matrix_train, interactions_matrix_train_preds)\n",
    "    test_difference = np.subtract(interactions_matrix_test, interactions_matrix_test_preds)\n",
    "    \n",
    "    error_train = np.sum(np.sum(np.abs(train_difference)))\n",
    "    error_test = np.sum(np.sum(np.abs(test_difference)))\n",
    "    \n",
    "    train_error.append(error_train)\n",
    "    test_error.append(error_test)\n"
   ]
  },
  {
   "cell_type": "code",
   "execution_count": 77,
   "metadata": {},
   "outputs": [
    {
     "data": {
      "image/png": "[encoded data removed]",
      "text/plain": [
       "<Figure size 432x288 with 1 Axes>"
      ]
     },
     "metadata": {
      "needs_background": "light"
     },
     "output_type": "display_data"
    }
   ],
   "source": [
    "plt.plot(latent_features, 1 - np.array(train_error)/(interactions_matrix_train.shape[0]*interactions_matrix_test.shape[1]), label='Train');\n",
    "plt.plot(latent_features, 1 - np.array(test_error)/(interactions_matrix_test.shape[0]*interactions_matrix_test.shape[1]), label='Test');\n",
    "plt.xlabel('Number of Latent Features');\n",
    "plt.ylabel('Accuracy');\n",
    "plt.legend();\n",
    "plt.xticks(np.arange(0, 800, step=50))\n",
    "plt.grid(True)\n",
    "plt.show()"
   ]
  },
  {
   "cell_type": "markdown",
   "metadata": {},
   "source": [
    "It can be seen from above plot that at around latent features=400, we got a reasonable accuracy in both train and test dataset. If the latent features be increased it will be overfitted and if decreased the latent features will underfit the model.\n",
    "\n",
    "Now reconstruct the matrices using latent features = 400"
   ]
  },
  {
   "cell_type": "code",
   "execution_count": 78,
   "metadata": {},
   "outputs": [],
   "source": [
    "from scipy.sparse.linalg import svds # for sparse matrices\n",
    "# Singular Value Decomposition\n",
    "U, sigma, Vt = svds(interactions_matrix, k = 400) \n",
    "# Construct diagonal array in SVD\n",
    "sigma = np.diag(sigma)"
   ]
  },
  {
   "cell_type": "code",
   "execution_count": 79,
   "metadata": {},
   "outputs": [
    {
     "data": {
      "text/html": [
       "<div>\n",
       "<style scoped>\n",
       "    .dataframe tbody tr th:only-of-type {\n",
       "        vertical-align: middle;\n",
       "    }\n",
       "\n",
       "    .dataframe tbody tr th {\n",
       "        vertical-align: top;\n",
       "    }\n",
       "\n",
       "    .dataframe thead th {\n",
       "        text-align: right;\n",
       "    }\n",
       "</style>\n",
       "<table border=\"1\" class=\"dataframe\">\n",
       "  <thead>\n",
       "    <tr style=\"text-align: right;\">\n",
       "      <th>song_id</th>\n",
       "      <th>SOAAAGQ12A8C1420C8</th>\n",
       "      <th>SOAACPJ12A81C21360</th>\n",
       "      <th>SOAACSG12AB018DC80</th>\n",
       "      <th>SOAAEJI12AB0188AB5</th>\n",
       "      <th>SOAAFAC12A67ADF7EB</th>\n",
       "      <th>SOAAFYH12A8C13717A</th>\n",
       "      <th>SOAAJMQ12A6D4F7D17</th>\n",
       "      <th>SOAAKPM12A58A77210</th>\n",
       "      <th>SOAALWN12A6D4F7FDA</th>\n",
       "      <th>SOAAMOW12AB018149B</th>\n",
       "      <th>...</th>\n",
       "      <th>SOZZKPR12A6D4F8147</th>\n",
       "      <th>SOZZLTY12A67AE0AD0</th>\n",
       "      <th>SOZZLZN12A8AE48D6D</th>\n",
       "      <th>SOZZRHE12A6702165F</th>\n",
       "      <th>SOZZTCU12AB0182C58</th>\n",
       "      <th>SOZZTNF12A8C139916</th>\n",
       "      <th>SOZZVWB12AB0189C30</th>\n",
       "      <th>SOZZWZV12A67AE140F</th>\n",
       "      <th>SOZZYAO12A6701FF36</th>\n",
       "      <th>SOZZZPV12A8C1444B5</th>\n",
       "    </tr>\n",
       "    <tr>\n",
       "      <th>user_id</th>\n",
       "      <th></th>\n",
       "      <th></th>\n",
       "      <th></th>\n",
       "      <th></th>\n",
       "      <th></th>\n",
       "      <th></th>\n",
       "      <th></th>\n",
       "      <th></th>\n",
       "      <th></th>\n",
       "      <th></th>\n",
       "      <th></th>\n",
       "      <th></th>\n",
       "      <th></th>\n",
       "      <th></th>\n",
       "      <th></th>\n",
       "      <th></th>\n",
       "      <th></th>\n",
       "      <th></th>\n",
       "      <th></th>\n",
       "      <th></th>\n",
       "      <th></th>\n",
       "    </tr>\n",
       "  </thead>\n",
       "  <tbody>\n",
       "    <tr>\n",
       "      <th>000e2c2a8c7870ff9121f212b35c8b3a20cc0e67</th>\n",
       "      <td>0.0</td>\n",
       "      <td>0.0</td>\n",
       "      <td>-0.0</td>\n",
       "      <td>-0.0</td>\n",
       "      <td>-0.0</td>\n",
       "      <td>0.0</td>\n",
       "      <td>-0.0</td>\n",
       "      <td>-0.0</td>\n",
       "      <td>0.0</td>\n",
       "      <td>0.0</td>\n",
       "      <td>...</td>\n",
       "      <td>0.0</td>\n",
       "      <td>-0.0</td>\n",
       "      <td>-0.0</td>\n",
       "      <td>0.0</td>\n",
       "      <td>0.0</td>\n",
       "      <td>0.0</td>\n",
       "      <td>0.0</td>\n",
       "      <td>0.0</td>\n",
       "      <td>0.0</td>\n",
       "      <td>-0.0</td>\n",
       "    </tr>\n",
       "    <tr>\n",
       "      <th>000ebc858861aca26bac9b49f650ed424cf882fc</th>\n",
       "      <td>-0.0</td>\n",
       "      <td>0.0</td>\n",
       "      <td>-0.0</td>\n",
       "      <td>0.0</td>\n",
       "      <td>0.0</td>\n",
       "      <td>-0.0</td>\n",
       "      <td>0.0</td>\n",
       "      <td>0.0</td>\n",
       "      <td>0.0</td>\n",
       "      <td>0.0</td>\n",
       "      <td>...</td>\n",
       "      <td>0.0</td>\n",
       "      <td>0.0</td>\n",
       "      <td>-0.0</td>\n",
       "      <td>0.0</td>\n",
       "      <td>0.0</td>\n",
       "      <td>0.0</td>\n",
       "      <td>-0.0</td>\n",
       "      <td>0.0</td>\n",
       "      <td>0.0</td>\n",
       "      <td>0.0</td>\n",
       "    </tr>\n",
       "    <tr>\n",
       "      <th>00185e316f07f0f00c325ca034be59c15b362401</th>\n",
       "      <td>-0.0</td>\n",
       "      <td>0.0</td>\n",
       "      <td>-0.0</td>\n",
       "      <td>0.0</td>\n",
       "      <td>0.0</td>\n",
       "      <td>0.0</td>\n",
       "      <td>0.0</td>\n",
       "      <td>-0.0</td>\n",
       "      <td>-0.0</td>\n",
       "      <td>0.0</td>\n",
       "      <td>...</td>\n",
       "      <td>-0.0</td>\n",
       "      <td>0.0</td>\n",
       "      <td>0.0</td>\n",
       "      <td>0.0</td>\n",
       "      <td>0.0</td>\n",
       "      <td>0.0</td>\n",
       "      <td>0.0</td>\n",
       "      <td>-0.0</td>\n",
       "      <td>0.0</td>\n",
       "      <td>0.0</td>\n",
       "    </tr>\n",
       "    <tr>\n",
       "      <th>002543003041db1d049206b09426d5cdffc0f451</th>\n",
       "      <td>-0.0</td>\n",
       "      <td>-0.0</td>\n",
       "      <td>-0.0</td>\n",
       "      <td>0.0</td>\n",
       "      <td>-0.0</td>\n",
       "      <td>-0.0</td>\n",
       "      <td>0.0</td>\n",
       "      <td>0.0</td>\n",
       "      <td>-0.0</td>\n",
       "      <td>-0.0</td>\n",
       "      <td>...</td>\n",
       "      <td>0.0</td>\n",
       "      <td>-0.0</td>\n",
       "      <td>-0.0</td>\n",
       "      <td>-0.0</td>\n",
       "      <td>-0.0</td>\n",
       "      <td>0.0</td>\n",
       "      <td>-0.0</td>\n",
       "      <td>-0.0</td>\n",
       "      <td>-0.0</td>\n",
       "      <td>0.0</td>\n",
       "    </tr>\n",
       "    <tr>\n",
       "      <th>0028292aa536122c1f86fd48a39bd83fe582d27f</th>\n",
       "      <td>-0.0</td>\n",
       "      <td>0.0</td>\n",
       "      <td>0.0</td>\n",
       "      <td>0.0</td>\n",
       "      <td>-0.0</td>\n",
       "      <td>0.0</td>\n",
       "      <td>-0.0</td>\n",
       "      <td>0.0</td>\n",
       "      <td>0.0</td>\n",
       "      <td>0.0</td>\n",
       "      <td>...</td>\n",
       "      <td>-0.0</td>\n",
       "      <td>0.0</td>\n",
       "      <td>-0.0</td>\n",
       "      <td>0.0</td>\n",
       "      <td>0.0</td>\n",
       "      <td>0.0</td>\n",
       "      <td>-0.0</td>\n",
       "      <td>-0.0</td>\n",
       "      <td>0.0</td>\n",
       "      <td>0.0</td>\n",
       "    </tr>\n",
       "  </tbody>\n",
       "</table>\n",
       "<p>5 rows × 10000 columns</p>\n",
       "</div>"
      ],
      "text/plain": [
       "song_id                                   SOAAAGQ12A8C1420C8  \\\n",
       "user_id                                                        \n",
       "000e2c2a8c7870ff9121f212b35c8b3a20cc0e67                 0.0   \n",
       "000ebc858861aca26bac9b49f650ed424cf882fc                -0.0   \n",
       "00185e316f07f0f00c325ca034be59c15b362401                -0.0   \n",
       "002543003041db1d049206b09426d5cdffc0f451                -0.0   \n",
       "0028292aa536122c1f86fd48a39bd83fe582d27f                -0.0   \n",
       "\n",
       "song_id                                   SOAACPJ12A81C21360  \\\n",
       "user_id                                                        \n",
       "000e2c2a8c7870ff9121f212b35c8b3a20cc0e67                 0.0   \n",
       "000ebc858861aca26bac9b49f650ed424cf882fc                 0.0   \n",
       "00185e316f07f0f00c325ca034be59c15b362401                 0.0   \n",
       "002543003041db1d049206b09426d5cdffc0f451                -0.0   \n",
       "0028292aa536122c1f86fd48a39bd83fe582d27f                 0.0   \n",
       "\n",
       "song_id                                   SOAACSG12AB018DC80  \\\n",
       "user_id                                                        \n",
       "000e2c2a8c7870ff9121f212b35c8b3a20cc0e67                -0.0   \n",
       "000ebc858861aca26bac9b49f650ed424cf882fc                -0.0   \n",
       "00185e316f07f0f00c325ca034be59c15b362401                -0.0   \n",
       "002543003041db1d049206b09426d5cdffc0f451                -0.0   \n",
       "0028292aa536122c1f86fd48a39bd83fe582d27f                 0.0   \n",
       "\n",
       "song_id                                   SOAAEJI12AB0188AB5  \\\n",
       "user_id                                                        \n",
       "000e2c2a8c7870ff9121f212b35c8b3a20cc0e67                -0.0   \n",
       "000ebc858861aca26bac9b49f650ed424cf882fc                 0.0   \n",
       "00185e316f07f0f00c325ca034be59c15b362401                 0.0   \n",
       "002543003041db1d049206b09426d5cdffc0f451                 0.0   \n",
       "0028292aa536122c1f86fd48a39bd83fe582d27f                 0.0   \n",
       "\n",
       "song_id                                   SOAAFAC12A67ADF7EB  \\\n",
       "user_id                                                        \n",
       "000e2c2a8c7870ff9121f212b35c8b3a20cc0e67                -0.0   \n",
       "000ebc858861aca26bac9b49f650ed424cf882fc                 0.0   \n",
       "00185e316f07f0f00c325ca034be59c15b362401                 0.0   \n",
       "002543003041db1d049206b09426d5cdffc0f451                -0.0   \n",
       "0028292aa536122c1f86fd48a39bd83fe582d27f                -0.0   \n",
       "\n",
       "song_id                                   SOAAFYH12A8C13717A  \\\n",
       "user_id                                                        \n",
       "000e2c2a8c7870ff9121f212b35c8b3a20cc0e67                 0.0   \n",
       "000ebc858861aca26bac9b49f650ed424cf882fc                -0.0   \n",
       "00185e316f07f0f00c325ca034be59c15b362401                 0.0   \n",
       "002543003041db1d049206b09426d5cdffc0f451                -0.0   \n",
       "0028292aa536122c1f86fd48a39bd83fe582d27f                 0.0   \n",
       "\n",
       "song_id                                   SOAAJMQ12A6D4F7D17  \\\n",
       "user_id                                                        \n",
       "000e2c2a8c7870ff9121f212b35c8b3a20cc0e67                -0.0   \n",
       "000ebc858861aca26bac9b49f650ed424cf882fc                 0.0   \n",
       "00185e316f07f0f00c325ca034be59c15b362401                 0.0   \n",
       "002543003041db1d049206b09426d5cdffc0f451                 0.0   \n",
       "0028292aa536122c1f86fd48a39bd83fe582d27f                -0.0   \n",
       "\n",
       "song_id                                   SOAAKPM12A58A77210  \\\n",
       "user_id                                                        \n",
       "000e2c2a8c7870ff9121f212b35c8b3a20cc0e67                -0.0   \n",
       "000ebc858861aca26bac9b49f650ed424cf882fc                 0.0   \n",
       "00185e316f07f0f00c325ca034be59c15b362401                -0.0   \n",
       "002543003041db1d049206b09426d5cdffc0f451                 0.0   \n",
       "0028292aa536122c1f86fd48a39bd83fe582d27f                 0.0   \n",
       "\n",
       "song_id                                   SOAALWN12A6D4F7FDA  \\\n",
       "user_id                                                        \n",
       "000e2c2a8c7870ff9121f212b35c8b3a20cc0e67                 0.0   \n",
       "000ebc858861aca26bac9b49f650ed424cf882fc                 0.0   \n",
       "00185e316f07f0f00c325ca034be59c15b362401                -0.0   \n",
       "002543003041db1d049206b09426d5cdffc0f451                -0.0   \n",
       "0028292aa536122c1f86fd48a39bd83fe582d27f                 0.0   \n",
       "\n",
       "song_id                                   SOAAMOW12AB018149B  ...  \\\n",
       "user_id                                                       ...   \n",
       "000e2c2a8c7870ff9121f212b35c8b3a20cc0e67                 0.0  ...   \n",
       "000ebc858861aca26bac9b49f650ed424cf882fc                 0.0  ...   \n",
       "00185e316f07f0f00c325ca034be59c15b362401                 0.0  ...   \n",
       "002543003041db1d049206b09426d5cdffc0f451                -0.0  ...   \n",
       "0028292aa536122c1f86fd48a39bd83fe582d27f                 0.0  ...   \n",
       "\n",
       "song_id                                   SOZZKPR12A6D4F8147  \\\n",
       "user_id                                                        \n",
       "000e2c2a8c7870ff9121f212b35c8b3a20cc0e67                 0.0   \n",
       "000ebc858861aca26bac9b49f650ed424cf882fc                 0.0   \n",
       "00185e316f07f0f00c325ca034be59c15b362401                -0.0   \n",
       "002543003041db1d049206b09426d5cdffc0f451                 0.0   \n",
       "0028292aa536122c1f86fd48a39bd83fe582d27f                -0.0   \n",
       "\n",
       "song_id                                   SOZZLTY12A67AE0AD0  \\\n",
       "user_id                                                        \n",
       "000e2c2a8c7870ff9121f212b35c8b3a20cc0e67                -0.0   \n",
       "000ebc858861aca26bac9b49f650ed424cf882fc                 0.0   \n",
       "00185e316f07f0f00c325ca034be59c15b362401                 0.0   \n",
       "002543003041db1d049206b09426d5cdffc0f451                -0.0   \n",
       "0028292aa536122c1f86fd48a39bd83fe582d27f                 0.0   \n",
       "\n",
       "song_id                                   SOZZLZN12A8AE48D6D  \\\n",
       "user_id                                                        \n",
       "000e2c2a8c7870ff9121f212b35c8b3a20cc0e67                -0.0   \n",
       "000ebc858861aca26bac9b49f650ed424cf882fc                -0.0   \n",
       "00185e316f07f0f00c325ca034be59c15b362401                 0.0   \n",
       "002543003041db1d049206b09426d5cdffc0f451                -0.0   \n",
       "0028292aa536122c1f86fd48a39bd83fe582d27f                -0.0   \n",
       "\n",
       "song_id                                   SOZZRHE12A6702165F  \\\n",
       "user_id                                                        \n",
       "000e2c2a8c7870ff9121f212b35c8b3a20cc0e67                 0.0   \n",
       "000ebc858861aca26bac9b49f650ed424cf882fc                 0.0   \n",
       "00185e316f07f0f00c325ca034be59c15b362401                 0.0   \n",
       "002543003041db1d049206b09426d5cdffc0f451                -0.0   \n",
       "0028292aa536122c1f86fd48a39bd83fe582d27f                 0.0   \n",
       "\n",
       "song_id                                   SOZZTCU12AB0182C58  \\\n",
       "user_id                                                        \n",
       "000e2c2a8c7870ff9121f212b35c8b3a20cc0e67                 0.0   \n",
       "000ebc858861aca26bac9b49f650ed424cf882fc                 0.0   \n",
       "00185e316f07f0f00c325ca034be59c15b362401                 0.0   \n",
       "002543003041db1d049206b09426d5cdffc0f451                -0.0   \n",
       "0028292aa536122c1f86fd48a39bd83fe582d27f                 0.0   \n",
       "\n",
       "song_id                                   SOZZTNF12A8C139916  \\\n",
       "user_id                                                        \n",
       "000e2c2a8c7870ff9121f212b35c8b3a20cc0e67                 0.0   \n",
       "000ebc858861aca26bac9b49f650ed424cf882fc                 0.0   \n",
       "00185e316f07f0f00c325ca034be59c15b362401                 0.0   \n",
       "002543003041db1d049206b09426d5cdffc0f451                 0.0   \n",
       "0028292aa536122c1f86fd48a39bd83fe582d27f                 0.0   \n",
       "\n",
       "song_id                                   SOZZVWB12AB0189C30  \\\n",
       "user_id                                                        \n",
       "000e2c2a8c7870ff9121f212b35c8b3a20cc0e67                 0.0   \n",
       "000ebc858861aca26bac9b49f650ed424cf882fc                -0.0   \n",
       "00185e316f07f0f00c325ca034be59c15b362401                 0.0   \n",
       "002543003041db1d049206b09426d5cdffc0f451                -0.0   \n",
       "0028292aa536122c1f86fd48a39bd83fe582d27f                -0.0   \n",
       "\n",
       "song_id                                   SOZZWZV12A67AE140F  \\\n",
       "user_id                                                        \n",
       "000e2c2a8c7870ff9121f212b35c8b3a20cc0e67                 0.0   \n",
       "000ebc858861aca26bac9b49f650ed424cf882fc                 0.0   \n",
       "00185e316f07f0f00c325ca034be59c15b362401                -0.0   \n",
       "002543003041db1d049206b09426d5cdffc0f451                -0.0   \n",
       "0028292aa536122c1f86fd48a39bd83fe582d27f                -0.0   \n",
       "\n",
       "song_id                                   SOZZYAO12A6701FF36  \\\n",
       "user_id                                                        \n",
       "000e2c2a8c7870ff9121f212b35c8b3a20cc0e67                 0.0   \n",
       "000ebc858861aca26bac9b49f650ed424cf882fc                 0.0   \n",
       "00185e316f07f0f00c325ca034be59c15b362401                 0.0   \n",
       "002543003041db1d049206b09426d5cdffc0f451                -0.0   \n",
       "0028292aa536122c1f86fd48a39bd83fe582d27f                 0.0   \n",
       "\n",
       "song_id                                   SOZZZPV12A8C1444B5  \n",
       "user_id                                                       \n",
       "000e2c2a8c7870ff9121f212b35c8b3a20cc0e67                -0.0  \n",
       "000ebc858861aca26bac9b49f650ed424cf882fc                 0.0  \n",
       "00185e316f07f0f00c325ca034be59c15b362401                 0.0  \n",
       "002543003041db1d049206b09426d5cdffc0f451                 0.0  \n",
       "0028292aa536122c1f86fd48a39bd83fe582d27f                 0.0  \n",
       "\n",
       "[5 rows x 10000 columns]"
      ]
     },
     "execution_count": 79,
     "metadata": {},
     "output_type": "execute_result"
    }
   ],
   "source": [
    "interactions_matrix_pred = np.around(np.dot(np.dot(U,sigma),Vt))\n",
    "predictions_matrix = pd.DataFrame(interactions_matrix_pred,index=interactions_matrix.index,columns=interactions_matrix.columns)\n",
    "predictions_matrix.head()"
   ]
  },
  {
   "cell_type": "code",
   "execution_count": 80,
   "metadata": {},
   "outputs": [],
   "source": [
    "def recommend_by_SVD(user_id,n,interactions_matrix, predictions_matrix):\n",
    "    \n",
    "    sorted_play_counts=(interactions_matrix.loc[user_id]).sort_values(ascending=False).head(n)  #sorted_user_ratings\n",
    "    sorted_predictions=(predictions_matrix.loc[user_id]).sort_values(ascending=False).head(n)  #sorted_user_predictions\n",
    "\n",
    "    return sorted_play_counts,sorted_predictions"
   ]
  },
  {
   "cell_type": "code",
   "execution_count": 81,
   "metadata": {},
   "outputs": [
    {
     "data": {
      "text/plain": [
       "(song_id\n",
       " SOLGLUC12AB018A8FA    33.0\n",
       " SOOONKL12AB0187911    23.0\n",
       " SOSJRJP12A6D4F826F    20.0\n",
       " SOTUARP12A8C13CB54    18.0\n",
       " SOGSAYQ12AB018BA14    17.0\n",
       " SONNKKX12A81C22CAC    15.0\n",
       " SOPGYCQ12A6D4FB4DC    15.0\n",
       " SOHHZKM12A6D4F70DA    10.0\n",
       " SOGWJEY12AC9618862    10.0\n",
       " SOSWWEU12AC9097E4C     9.0\n",
       " Name: 00544d8bde0d7985e8d703c1eb676d41cad33c67, dtype: float64,\n",
       " song_id\n",
       " SOLGLUC12AB018A8FA    29.0\n",
       " SOSJRJP12A6D4F826F    19.0\n",
       " SOTUARP12A8C13CB54    17.0\n",
       " SOGSAYQ12AB018BA14    15.0\n",
       " SOSXLTC12AF72A7F54     9.0\n",
       " SOHTCVN12A8C134E46     8.0\n",
       " SOFKFXC12AC90732A5     6.0\n",
       " SOYABSZ12A81C1FEAC     6.0\n",
       " SOLWAHM12AB018EBC8     4.0\n",
       " SODGVGW12AC9075A8D     4.0\n",
       " Name: 00544d8bde0d7985e8d703c1eb676d41cad33c67, dtype: float64)"
      ]
     },
     "execution_count": 81,
     "metadata": {},
     "output_type": "execute_result"
    }
   ],
   "source": [
    "recommend_by_SVD('00544d8bde0d7985e8d703c1eb676d41cad33c67',10, interactions_matrix,predictions_matrix )"
   ]
  },
  {
   "cell_type": "markdown",
   "metadata": {},
   "source": [
    "**Evaluation of SVD**"
   ]
  },
  {
   "cell_type": "code",
   "execution_count": 82,
   "metadata": {},
   "outputs": [],
   "source": [
    "def evaluate_svd(interactions_matrix,predictions_matrix):\n",
    "\n",
    "    acc_df=pd.DataFrame(columns=['acc'])\n",
    "    for user in list(interactions_matrix.index):\n",
    "        p_top_songs=predictions_matrix.columns[np.array((predictions_matrix.loc[user]>np.around(df['play_count'].mean())))]\n",
    "        top_songs=interactions_matrix.columns[np.array((interactions_matrix.loc[user]>np.around(df['play_count'].mean())))]\n",
    "        acc=top_songs.isin(p_top_songs).sum()/len(p_top_songs)*100\n",
    "        acc_df.loc[user]=acc\n",
    "        \n",
    "    return acc_df"
   ]
  },
  {
   "cell_type": "code",
   "execution_count": 83,
   "metadata": {},
   "outputs": [],
   "source": [
    "acc_df=evaluate_svd(interactions_matrix,predictions_matrix)"
   ]
  },
  {
   "cell_type": "code",
   "execution_count": 84,
   "metadata": {},
   "outputs": [
    {
     "data": {
      "image/png": "[encoded data removed]",
      "text/plain": [
       "<Figure size 1152x648 with 1 Axes>"
      ]
     },
     "metadata": {
      "needs_background": "light"
     },
     "output_type": "display_data"
    }
   ],
   "source": [
    "plt.figure(figsize=(16,9))\n",
    "plt.plot(np.arange(0,acc_df.shape[0]),acc_df['acc'],label='Accuracy')\n",
    "plt.plot(np.arange(0,acc_df.shape[0]), np.full((acc_df.shape[0],1), acc_df['acc'].mean()),label='Ave. Accuracy')\n",
    "plt.xlabel('User Number');\n",
    "plt.ylabel('Accuracy');\n",
    "#plt.legend();\n",
    "plt.legend(loc='upper right')\n",
    "plt.xticks(np.arange(0, 10000, step=500))\n",
    "plt.show()\n"
   ]
  },
  {
   "cell_type": "code",
   "execution_count": 85,
   "metadata": {},
   "outputs": [
    {
     "name": "stdout",
     "output_type": "stream",
     "text": [
      "The average accuracy of SVD is 86.0\n"
     ]
    }
   ],
   "source": [
    "print('The average accuracy of SVD is',np.around(acc_df['acc'].mean()))"
   ]
  },
  {
   "cell_type": "markdown",
   "metadata": {},
   "source": [
    "**Observation**"
   ]
  },
  {
   "cell_type": "markdown",
   "metadata": {},
   "source": [
    "SVD recommends the songs of high ratings very well (with 86% average accuracy)."
   ]
  },
  {
   "cell_type": "markdown",
   "metadata": {},
   "source": [
    "**Recommend top10 song based on hybrid solution of SVD and popularity-based**"
   ]
  },
  {
   "cell_type": "code",
   "execution_count": 100,
   "metadata": {},
   "outputs": [],
   "source": [
    "def RecommendTop10(user_id):\n",
    "    \n",
    "    sorted_play_counts,sorted_predictions=recommend_by_SVD(user_id,10,interactions_matrix, predictions_matrix)\n",
    "    acc_df=evaluate_svd(interactions_matrix,predictions_matrix)\n",
    "    acc_=acc_df.loc[user_id][0]\n",
    "    if (acc_>10):\n",
    "        return list(sorted_predictions.index)\n",
    "        #return sorted_predictions,sorted_play_counts\n",
    "    else:\n",
    "        sorted_predictions=recommend_by_averaging(average_rating,10)\n",
    "        return list(sorted_predictions.index)\n",
    "        #return sorted_predictions,sorted_play_counts"
   ]
  },
  {
   "cell_type": "code",
   "execution_count": 101,
   "metadata": {},
   "outputs": [
    {
     "data": {
      "text/plain": [
       "['SOQZYQH12A8AE468E5',\n",
       " 'SONZWDK12A6701F62B',\n",
       " 'SOIOESO12A6D4F621D',\n",
       " 'SOAOAHZ12A8C13AAF1',\n",
       " 'SONQEYS12AF72AABC9',\n",
       " 'SOERYLG12A6701F07F',\n",
       " 'SOHABTD12A67AE0CF8',\n",
       " 'SOLRGNF12AB0187CF4',\n",
       " 'SOZSFWW12AB017F5E7',\n",
       " 'SOCNCGL127D9786D66']"
      ]
     },
     "execution_count": 101,
     "metadata": {},
     "output_type": "execute_result"
    }
   ],
   "source": [
    "RecommendTop10('000e2c2a8c7870ff9121f212b35c8b3a20cc0e67')"
   ]
  },
  {
   "cell_type": "code",
   "execution_count": 102,
   "metadata": {},
   "outputs": [
    {
     "data": {
      "text/plain": [
       "['SOUDLVN12AAFF43658',\n",
       " 'SOJSQYL12A81C23901',\n",
       " 'SOZVVRE12A8C143150',\n",
       " 'SOADOQJ12A8AE45C7E',\n",
       " 'SOMDVSL12A6D4F7230',\n",
       " 'SOAJNYK12AF729F33B',\n",
       " 'SOTTGXB12A6701FA0B',\n",
       " 'SOWRREB12A6D4FA7CB',\n",
       " 'SOVPAJA12A58A77B15',\n",
       " 'SOHZMFE12A6D4FB412']"
      ]
     },
     "execution_count": 102,
     "metadata": {},
     "output_type": "execute_result"
    }
   ],
   "source": [
    "RecommendTop10('fff6c30c773e6ffafcac213c9afd9666afaf6d63')"
   ]
  },
  {
   "cell_type": "code",
   "execution_count": 103,
   "metadata": {},
   "outputs": [
    {
     "data": {
      "text/plain": [
       "['SOBONKR12A58A7A7E0',\n",
       " 'SOAUWYT12A81C206F1',\n",
       " 'SOSXLTC12AF72A7F54',\n",
       " 'SOAXGDH12A8C13F8A1',\n",
       " 'SOFRQTD12A81C233C0',\n",
       " 'SOEGIYH12A6D4FC0E3',\n",
       " 'SOPUCYA12A8C13A694',\n",
       " 'SONYKOW12AB01849C9',\n",
       " 'SOUFTBI12AB0183F65',\n",
       " 'SOTCMDJ12A6D4F8528']"
      ]
     },
     "execution_count": 103,
     "metadata": {},
     "output_type": "execute_result"
    }
   ],
   "source": [
    "RecommendTop10('000ebc858861aca26bac9b49f650ed424cf882fc')"
   ]
  }
 ],
 "metadata": {
  "kernelspec": {
   "display_name": "Python 3",
   "language": "python",
   "name": "python3"
  },
  "language_info": {
   "codemirror_mode": {
    "name": "ipython",
    "version": 3
   },
   "file_extension": ".py",
   "mimetype": "text/x-python",
   "name": "python",
   "nbconvert_exporter": "python",
   "pygments_lexer": "ipython3",
   "version": "3.8.5"
  }
 },
 "nbformat": 4,
 "nbformat_minor": 4
}
